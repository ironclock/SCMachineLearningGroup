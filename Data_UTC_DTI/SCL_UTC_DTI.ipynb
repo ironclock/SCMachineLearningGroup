{
 "cells": [
  {
   "cell_type": "code",
   "execution_count": 1,
   "metadata": {},
   "outputs": [],
   "source": [
    "import numpy as np\n",
    "import pandas as pd"
   ]
  },
  {
   "cell_type": "code",
   "execution_count": 2,
   "metadata": {},
   "outputs": [],
   "source": [
    "scl=pd.read_csv(\"c:/Users/renee/desktop/SCLXX.csv\")"
   ]
  },
  {
   "cell_type": "code",
   "execution_count": 3,
   "metadata": {},
   "outputs": [
    {
     "data": {
      "text/html": [
       "<div>\n",
       "<style scoped>\n",
       "    .dataframe tbody tr th:only-of-type {\n",
       "        vertical-align: middle;\n",
       "    }\n",
       "\n",
       "    .dataframe tbody tr th {\n",
       "        vertical-align: top;\n",
       "    }\n",
       "\n",
       "    .dataframe thead th {\n",
       "        text-align: right;\n",
       "    }\n",
       "</style>\n",
       "<table border=\"1\" class=\"dataframe\">\n",
       "  <thead>\n",
       "    <tr style=\"text-align: right;\">\n",
       "      <th></th>\n",
       "      <th>BA</th>\n",
       "      <th>UTC_time</th>\n",
       "      <th>Local_date</th>\n",
       "      <th>Hour</th>\n",
       "      <th>Data_issue</th>\n",
       "      <th>Local_time</th>\n",
       "      <th>Time_zone</th>\n",
       "      <th>Generation only</th>\n",
       "      <th>DF</th>\n",
       "      <th>D</th>\n",
       "      <th>...</th>\n",
       "      <th>UTC offset calculated</th>\n",
       "      <th>UTC0 offset</th>\n",
       "      <th>UTC1 offset</th>\n",
       "      <th>UTC2 offset</th>\n",
       "      <th>UTCD offset</th>\n",
       "      <th>UTC offset mismatch</th>\n",
       "      <th>File 0</th>\n",
       "      <th>File 1</th>\n",
       "      <th>File 2</th>\n",
       "      <th>File D</th>\n",
       "    </tr>\n",
       "  </thead>\n",
       "  <tbody>\n",
       "    <tr>\n",
       "      <td>0</td>\n",
       "      <td>SCL</td>\n",
       "      <td>7/1/2015 8:00</td>\n",
       "      <td>7/1/2015</td>\n",
       "      <td>1</td>\n",
       "      <td>1</td>\n",
       "      <td>7/1/2015 1:00</td>\n",
       "      <td>Pacific</td>\n",
       "      <td>N</td>\n",
       "      <td>865.0</td>\n",
       "      <td>873.0</td>\n",
       "      <td>...</td>\n",
       "      <td>7</td>\n",
       "      <td>7.0</td>\n",
       "      <td>7.0</td>\n",
       "      <td>7.0</td>\n",
       "      <td>0</td>\n",
       "      <td>0</td>\n",
       "      <td>SCLdaily1822015</td>\n",
       "      <td>SCLdaily1832015</td>\n",
       "      <td>SCLdaily1842015</td>\n",
       "      <td>NaN</td>\n",
       "    </tr>\n",
       "    <tr>\n",
       "      <td>1</td>\n",
       "      <td>SCL</td>\n",
       "      <td>7/1/2015 9:00</td>\n",
       "      <td>7/1/2015</td>\n",
       "      <td>2</td>\n",
       "      <td>1</td>\n",
       "      <td>7/1/2015 2:00</td>\n",
       "      <td>Pacific</td>\n",
       "      <td>N</td>\n",
       "      <td>841.0</td>\n",
       "      <td>833.0</td>\n",
       "      <td>...</td>\n",
       "      <td>7</td>\n",
       "      <td>7.0</td>\n",
       "      <td>7.0</td>\n",
       "      <td>7.0</td>\n",
       "      <td>0</td>\n",
       "      <td>0</td>\n",
       "      <td>SCLdaily1822015</td>\n",
       "      <td>SCLdaily1832015</td>\n",
       "      <td>SCLdaily1842015</td>\n",
       "      <td>NaN</td>\n",
       "    </tr>\n",
       "    <tr>\n",
       "      <td>2</td>\n",
       "      <td>SCL</td>\n",
       "      <td>7/1/2015 10:00</td>\n",
       "      <td>7/1/2015</td>\n",
       "      <td>3</td>\n",
       "      <td>1</td>\n",
       "      <td>7/1/2015 3:00</td>\n",
       "      <td>Pacific</td>\n",
       "      <td>N</td>\n",
       "      <td>790.0</td>\n",
       "      <td>802.0</td>\n",
       "      <td>...</td>\n",
       "      <td>7</td>\n",
       "      <td>7.0</td>\n",
       "      <td>7.0</td>\n",
       "      <td>7.0</td>\n",
       "      <td>0</td>\n",
       "      <td>0</td>\n",
       "      <td>SCLdaily1822015</td>\n",
       "      <td>SCLdaily1832015</td>\n",
       "      <td>SCLdaily1842015</td>\n",
       "      <td>NaN</td>\n",
       "    </tr>\n",
       "    <tr>\n",
       "      <td>3</td>\n",
       "      <td>SCL</td>\n",
       "      <td>7/1/2015 11:00</td>\n",
       "      <td>7/1/2015</td>\n",
       "      <td>4</td>\n",
       "      <td>1</td>\n",
       "      <td>7/1/2015 4:00</td>\n",
       "      <td>Pacific</td>\n",
       "      <td>N</td>\n",
       "      <td>783.0</td>\n",
       "      <td>796.0</td>\n",
       "      <td>...</td>\n",
       "      <td>7</td>\n",
       "      <td>7.0</td>\n",
       "      <td>7.0</td>\n",
       "      <td>7.0</td>\n",
       "      <td>0</td>\n",
       "      <td>0</td>\n",
       "      <td>SCLdaily1822015</td>\n",
       "      <td>SCLdaily1832015</td>\n",
       "      <td>SCLdaily1842015</td>\n",
       "      <td>NaN</td>\n",
       "    </tr>\n",
       "    <tr>\n",
       "      <td>4</td>\n",
       "      <td>SCL</td>\n",
       "      <td>7/1/2015 12:00</td>\n",
       "      <td>7/1/2015</td>\n",
       "      <td>5</td>\n",
       "      <td>1</td>\n",
       "      <td>7/1/2015 5:00</td>\n",
       "      <td>Pacific</td>\n",
       "      <td>N</td>\n",
       "      <td>800.0</td>\n",
       "      <td>807.0</td>\n",
       "      <td>...</td>\n",
       "      <td>7</td>\n",
       "      <td>7.0</td>\n",
       "      <td>7.0</td>\n",
       "      <td>7.0</td>\n",
       "      <td>0</td>\n",
       "      <td>0</td>\n",
       "      <td>SCLdaily1822015</td>\n",
       "      <td>SCLdaily1832015</td>\n",
       "      <td>SCLdaily1842015</td>\n",
       "      <td>NaN</td>\n",
       "    </tr>\n",
       "  </tbody>\n",
       "</table>\n",
       "<p>5 rows × 77 columns</p>\n",
       "</div>"
      ],
      "text/plain": [
       "    BA        UTC_time Local_date  Hour  Data_issue     Local_time Time_zone  \\\n",
       "0  SCL   7/1/2015 8:00   7/1/2015     1           1  7/1/2015 1:00   Pacific   \n",
       "1  SCL   7/1/2015 9:00   7/1/2015     2           1  7/1/2015 2:00   Pacific   \n",
       "2  SCL  7/1/2015 10:00   7/1/2015     3           1  7/1/2015 3:00   Pacific   \n",
       "3  SCL  7/1/2015 11:00   7/1/2015     4           1  7/1/2015 4:00   Pacific   \n",
       "4  SCL  7/1/2015 12:00   7/1/2015     5           1  7/1/2015 5:00   Pacific   \n",
       "\n",
       "  Generation only     DF      D  ...  UTC offset calculated  UTC0 offset  \\\n",
       "0               N  865.0  873.0  ...                      7          7.0   \n",
       "1               N  841.0  833.0  ...                      7          7.0   \n",
       "2               N  790.0  802.0  ...                      7          7.0   \n",
       "3               N  783.0  796.0  ...                      7          7.0   \n",
       "4               N  800.0  807.0  ...                      7          7.0   \n",
       "\n",
       "   UTC1 offset  UTC2 offset  UTCD offset  UTC offset mismatch  \\\n",
       "0          7.0          7.0            0                    0   \n",
       "1          7.0          7.0            0                    0   \n",
       "2          7.0          7.0            0                    0   \n",
       "3          7.0          7.0            0                    0   \n",
       "4          7.0          7.0            0                    0   \n",
       "\n",
       "            File 0           File 1           File 2  File D  \n",
       "0  SCLdaily1822015  SCLdaily1832015  SCLdaily1842015     NaN  \n",
       "1  SCLdaily1822015  SCLdaily1832015  SCLdaily1842015     NaN  \n",
       "2  SCLdaily1822015  SCLdaily1832015  SCLdaily1842015     NaN  \n",
       "3  SCLdaily1822015  SCLdaily1832015  SCLdaily1842015     NaN  \n",
       "4  SCLdaily1822015  SCLdaily1832015  SCLdaily1842015     NaN  \n",
       "\n",
       "[5 rows x 77 columns]"
      ]
     },
     "execution_count": 3,
     "metadata": {},
     "output_type": "execute_result"
    }
   ],
   "source": [
    "scl.head()"
   ]
  },
  {
   "cell_type": "code",
   "execution_count": 4,
   "metadata": {},
   "outputs": [],
   "source": [
    "utc=scl.UTC_time.values"
   ]
  },
  {
   "cell_type": "code",
   "execution_count": 5,
   "metadata": {},
   "outputs": [
    {
     "data": {
      "text/plain": [
       "40489"
      ]
     },
     "execution_count": 5,
     "metadata": {},
     "output_type": "execute_result"
    }
   ],
   "source": [
    "utc.size"
   ]
  },
  {
   "cell_type": "code",
   "execution_count": 6,
   "metadata": {},
   "outputs": [
    {
     "data": {
      "text/plain": [
       "BA                      object\n",
       "UTC_time                object\n",
       "Local_date              object\n",
       "Hour                     int64\n",
       "Data_issue               int64\n",
       "                        ...   \n",
       "UTC offset mismatch      int64\n",
       "File 0                  object\n",
       "File 1                  object\n",
       "File 2                  object\n",
       "File D                 float64\n",
       "Length: 77, dtype: object"
      ]
     },
     "execution_count": 6,
     "metadata": {},
     "output_type": "execute_result"
    }
   ],
   "source": [
    "scl.dtypes"
   ]
  },
  {
   "cell_type": "code",
   "execution_count": 7,
   "metadata": {},
   "outputs": [],
   "source": [
    "utc=pd.to_datetime(utc, utc=True)"
   ]
  },
  {
   "cell_type": "code",
   "execution_count": 8,
   "metadata": {},
   "outputs": [],
   "source": [
    "scl[\"utc\"]=utc"
   ]
  },
  {
   "cell_type": "code",
   "execution_count": 9,
   "metadata": {},
   "outputs": [],
   "source": [
    "dti=pd.DatetimeIndex(utc)"
   ]
  },
  {
   "cell_type": "code",
   "execution_count": 10,
   "metadata": {},
   "outputs": [
    {
     "data": {
      "text/plain": [
       "(40489, 78)"
      ]
     },
     "execution_count": 10,
     "metadata": {},
     "output_type": "execute_result"
    }
   ],
   "source": [
    "scl.shape"
   ]
  },
  {
   "cell_type": "code",
   "execution_count": 11,
   "metadata": {},
   "outputs": [
    {
     "data": {
      "text/plain": [
       "BA                         object\n",
       "UTC_time                   object\n",
       "Local_date                 object\n",
       "Hour                        int64\n",
       "Data_issue                  int64\n",
       "                     ...         \n",
       "File 0                     object\n",
       "File 1                     object\n",
       "File 2                     object\n",
       "File D                    float64\n",
       "utc           datetime64[ns, UTC]\n",
       "Length: 78, dtype: object"
      ]
     },
     "execution_count": 11,
     "metadata": {},
     "output_type": "execute_result"
    }
   ],
   "source": [
    "scl.dtypes"
   ]
  },
  {
   "cell_type": "code",
   "execution_count": 12,
   "metadata": {},
   "outputs": [],
   "source": [
    "scl.to_csv(\"SCL_UTC_DTI.csv\")"
   ]
  },
  {
   "cell_type": "code",
   "execution_count": null,
   "metadata": {},
   "outputs": [],
   "source": []
  },
  {
   "cell_type": "code",
   "execution_count": null,
   "metadata": {},
   "outputs": [],
   "source": []
  }
 ],
 "metadata": {
  "kernelspec": {
   "display_name": "Python 3",
   "language": "python",
   "name": "python3"
  },
  "language_info": {
   "codemirror_mode": {
    "name": "ipython",
    "version": 3
   },
   "file_extension": ".py",
   "mimetype": "text/x-python",
   "name": "python",
   "nbconvert_exporter": "python",
   "pygments_lexer": "ipython3",
   "version": "3.7.4"
  }
 },
 "nbformat": 4,
 "nbformat_minor": 4
}
