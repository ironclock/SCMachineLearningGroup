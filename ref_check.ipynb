{
 "cells": [
  {
   "cell_type": "code",
   "execution_count": 50,
   "metadata": {},
   "outputs": [],
   "source": [
    "import pandas as pd\n",
    "import numpy as np"
   ]
  },
  {
   "cell_type": "code",
   "execution_count": 51,
   "metadata": {},
   "outputs": [],
   "source": [
    "d_ref=pd.read_csv(\"scl666.csv\")\n",
    "d_check=pd.read_csv(\"agw666.csv\")"
   ]
  },
  {
   "cell_type": "code",
   "execution_count": 52,
   "metadata": {},
   "outputs": [
    {
     "data": {
      "text/html": [
       "<div>\n",
       "<style scoped>\n",
       "    .dataframe tbody tr th:only-of-type {\n",
       "        vertical-align: middle;\n",
       "    }\n",
       "\n",
       "    .dataframe tbody tr th {\n",
       "        vertical-align: top;\n",
       "    }\n",
       "\n",
       "    .dataframe thead th {\n",
       "        text-align: right;\n",
       "    }\n",
       "</style>\n",
       "<table border=\"1\" class=\"dataframe\">\n",
       "  <thead>\n",
       "    <tr style=\"text-align: right;\">\n",
       "      <th></th>\n",
       "      <th>Unnamed: 0</th>\n",
       "      <th>date_Time</th>\n",
       "      <th>Unnamed: 0.1</th>\n",
       "      <th>temp</th>\n",
       "      <th>dew</th>\n",
       "      <th>rh</th>\n",
       "      <th>spd</th>\n",
       "      <th>gust</th>\n",
       "      <th>atm</th>\n",
       "      <th>min</th>\n",
       "      <th>avg</th>\n",
       "      <th>max</th>\n",
       "      <th>Time</th>\n",
       "    </tr>\n",
       "  </thead>\n",
       "  <tbody>\n",
       "    <tr>\n",
       "      <td>0</td>\n",
       "      <td>0</td>\n",
       "      <td>2015-07-01 00:00:00+00:00</td>\n",
       "      <td>0</td>\n",
       "      <td>62.8</td>\n",
       "      <td>53.4</td>\n",
       "      <td>70.1</td>\n",
       "      <td>0.0</td>\n",
       "      <td>0.0</td>\n",
       "      <td>30.06</td>\n",
       "      <td>62.5</td>\n",
       "      <td>63.3</td>\n",
       "      <td>64.0</td>\n",
       "      <td>2015-07-01 00:00:00</td>\n",
       "    </tr>\n",
       "    <tr>\n",
       "      <td>1</td>\n",
       "      <td>1</td>\n",
       "      <td>2015-07-01 01:00:00+00:00</td>\n",
       "      <td>1</td>\n",
       "      <td>61.0</td>\n",
       "      <td>53.9</td>\n",
       "      <td>76.2</td>\n",
       "      <td>0.0</td>\n",
       "      <td>0.0</td>\n",
       "      <td>30.06</td>\n",
       "      <td>61.1</td>\n",
       "      <td>61.5</td>\n",
       "      <td>62.0</td>\n",
       "      <td>2015-07-01 01:00:00</td>\n",
       "    </tr>\n",
       "    <tr>\n",
       "      <td>2</td>\n",
       "      <td>2</td>\n",
       "      <td>2015-07-01 02:00:00+00:00</td>\n",
       "      <td>2</td>\n",
       "      <td>60.2</td>\n",
       "      <td>54.7</td>\n",
       "      <td>80.2</td>\n",
       "      <td>0.0</td>\n",
       "      <td>0.0</td>\n",
       "      <td>30.06</td>\n",
       "      <td>60.4</td>\n",
       "      <td>60.8</td>\n",
       "      <td>61.1</td>\n",
       "      <td>2015-07-01 02:00:00</td>\n",
       "    </tr>\n",
       "    <tr>\n",
       "      <td>3</td>\n",
       "      <td>3</td>\n",
       "      <td>2015-07-01 03:00:00+00:00</td>\n",
       "      <td>3</td>\n",
       "      <td>59.8</td>\n",
       "      <td>55.0</td>\n",
       "      <td>82.5</td>\n",
       "      <td>0.0</td>\n",
       "      <td>0.0</td>\n",
       "      <td>30.06</td>\n",
       "      <td>60.1</td>\n",
       "      <td>60.3</td>\n",
       "      <td>60.6</td>\n",
       "      <td>2015-07-01 03:00:00</td>\n",
       "    </tr>\n",
       "    <tr>\n",
       "      <td>4</td>\n",
       "      <td>4</td>\n",
       "      <td>2015-07-01 04:00:00+00:00</td>\n",
       "      <td>4</td>\n",
       "      <td>59.3</td>\n",
       "      <td>54.7</td>\n",
       "      <td>83.2</td>\n",
       "      <td>0.0</td>\n",
       "      <td>0.0</td>\n",
       "      <td>30.06</td>\n",
       "      <td>59.5</td>\n",
       "      <td>59.8</td>\n",
       "      <td>60.1</td>\n",
       "      <td>2015-07-01 04:00:00</td>\n",
       "    </tr>\n",
       "  </tbody>\n",
       "</table>\n",
       "</div>"
      ],
      "text/plain": [
       "   Unnamed: 0                  date_Time  Unnamed: 0.1  temp   dew    rh  spd  \\\n",
       "0           0  2015-07-01 00:00:00+00:00             0  62.8  53.4  70.1  0.0   \n",
       "1           1  2015-07-01 01:00:00+00:00             1  61.0  53.9  76.2  0.0   \n",
       "2           2  2015-07-01 02:00:00+00:00             2  60.2  54.7  80.2  0.0   \n",
       "3           3  2015-07-01 03:00:00+00:00             3  59.8  55.0  82.5  0.0   \n",
       "4           4  2015-07-01 04:00:00+00:00             4  59.3  54.7  83.2  0.0   \n",
       "\n",
       "   gust    atm   min   avg   max                 Time  \n",
       "0   0.0  30.06  62.5  63.3  64.0  2015-07-01 00:00:00  \n",
       "1   0.0  30.06  61.1  61.5  62.0  2015-07-01 01:00:00  \n",
       "2   0.0  30.06  60.4  60.8  61.1  2015-07-01 02:00:00  \n",
       "3   0.0  30.06  60.1  60.3  60.6  2015-07-01 03:00:00  \n",
       "4   0.0  30.06  59.5  59.8  60.1  2015-07-01 04:00:00  "
      ]
     },
     "execution_count": 52,
     "metadata": {},
     "output_type": "execute_result"
    }
   ],
   "source": [
    "d_check.head()"
   ]
  },
  {
   "cell_type": "code",
   "execution_count": 53,
   "metadata": {},
   "outputs": [],
   "source": [
    "dti=pd.DatetimeIndex(d_ref[\"time\"])"
   ]
  },
  {
   "cell_type": "code",
   "execution_count": 54,
   "metadata": {},
   "outputs": [],
   "source": [
    "Dti=pd.DatetimeIndex(d_check[\"Time\"])"
   ]
  },
  {
   "cell_type": "code",
   "execution_count": 55,
   "metadata": {},
   "outputs": [],
   "source": [
    "inx=pd.Index.drop_duplicates(Dti, keep=\"first\")"
   ]
  },
  {
   "cell_type": "code",
   "execution_count": 56,
   "metadata": {},
   "outputs": [
    {
     "data": {
      "text/plain": [
       "40242"
      ]
     },
     "execution_count": 56,
     "metadata": {},
     "output_type": "execute_result"
    }
   ],
   "source": [
    "inx.size"
   ]
  },
  {
   "cell_type": "code",
   "execution_count": 57,
   "metadata": {},
   "outputs": [
    {
     "data": {
      "text/plain": [
       "40489"
      ]
     },
     "execution_count": 57,
     "metadata": {},
     "output_type": "execute_result"
    }
   ],
   "source": [
    "dti.size"
   ]
  },
  {
   "cell_type": "code",
   "execution_count": 58,
   "metadata": {},
   "outputs": [],
   "source": [
    "new= inx.isin(dti)"
   ]
  },
  {
   "cell_type": "code",
   "execution_count": 59,
   "metadata": {},
   "outputs": [
    {
     "data": {
      "text/plain": [
       "DatetimeIndex(['2015-07-01 08:00:00', '2015-07-01 09:00:00',\n",
       "               '2015-07-01 10:00:00', '2015-07-01 11:00:00',\n",
       "               '2015-07-01 12:00:00', '2015-07-01 13:00:00',\n",
       "               '2015-07-01 14:00:00', '2015-07-01 15:00:00',\n",
       "               '2015-07-01 16:00:00', '2015-07-01 17:00:00',\n",
       "               ...\n",
       "               '2020-02-01 13:00:00', '2020-02-01 14:00:00',\n",
       "               '2020-02-01 15:00:00', '2020-02-01 16:00:00',\n",
       "               '2020-02-01 17:00:00', '2020-02-01 18:00:00',\n",
       "               '2020-02-01 19:00:00', '2020-02-01 20:00:00',\n",
       "               '2020-02-01 21:00:00', '2020-02-01 22:00:00'],\n",
       "              dtype='datetime64[ns]', name='Time', length=40234, freq=None)"
      ]
     },
     "execution_count": 59,
     "metadata": {},
     "output_type": "execute_result"
    }
   ],
   "source": [
    "inx[new]"
   ]
  },
  {
   "cell_type": "code",
   "execution_count": 60,
   "metadata": {},
   "outputs": [
    {
     "data": {
      "text/plain": [
       "40242"
      ]
     },
     "execution_count": 60,
     "metadata": {},
     "output_type": "execute_result"
    }
   ],
   "source": [
    "new.size"
   ]
  },
  {
   "cell_type": "code",
   "execution_count": 61,
   "metadata": {},
   "outputs": [
    {
     "data": {
      "text/plain": [
       "40489"
      ]
     },
     "execution_count": 61,
     "metadata": {},
     "output_type": "execute_result"
    }
   ],
   "source": [
    "dti.size"
   ]
  }
 ],
 "metadata": {
  "kernelspec": {
   "display_name": "Python 3",
   "language": "python",
   "name": "python3"
  },
  "language_info": {
   "codemirror_mode": {
    "name": "ipython",
    "version": 3
   },
   "file_extension": ".py",
   "mimetype": "text/x-python",
   "name": "python",
   "nbconvert_exporter": "python",
   "pygments_lexer": "ipython3",
   "version": "3.7.4"
  }
 },
 "nbformat": 4,
 "nbformat_minor": 4
}
