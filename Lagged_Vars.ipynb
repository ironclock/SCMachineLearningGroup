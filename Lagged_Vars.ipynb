{
 "cells": [
  {
   "cell_type": "code",
   "execution_count": 4,
   "metadata": {},
   "outputs": [],
   "source": [
    "# notebook to inspect weather data\n",
    "\n",
    "%matplotlib inline\n",
    "import numpy as np\n",
    "import pandas as pd"
   ]
  },
  {
   "cell_type": "code",
   "execution_count": 5,
   "metadata": {},
   "outputs": [],
   "source": [
    "# read file\n",
    "\n",
    "dataset=pd.read_csv('SEA_DATA/NOAA Data/2020/727930-24233-2020.csv',skiprows=0)"
   ]
  },
  {
   "cell_type": "code",
   "execution_count": 6,
   "metadata": {},
   "outputs": [
    {
     "data": {
      "text/plain": [
       "<bound method NDFrame.head of        USAF   WBAN  YR--MODAHRMN  DIR SPD  GUS  CLG  SKC  L  M  ...     SLP  \\\n",
       "0    727930  24233  202001010000  190  18  ***  ***  OVC  *  *  ...  1008.1   \n",
       "1    727930  24233  202001010029  190  15   26    8  ***  *  *  ...  ******   \n",
       "2    727930  24233  202001010053  170  18   26    8  ***  *  *  ...  1006.4   \n",
       "3    727930  24233  202001010153  180  21   31    8  ***  *  *  ...  1005.9   \n",
       "4    727930  24233  202001010253  190  23   34    6  ***  *  *  ...  1005.1   \n",
       "..      ...    ...           ...  ...  ..  ...  ...  ... .. ..  ...     ...   \n",
       "517  727930  24233  202001140553  010  11  ***    7  OVC  *  *  ...  1009.9   \n",
       "518  727930  24233  202001140627  040  11  ***    6  OVC  *  *  ...  ******   \n",
       "519  727930  24233  202001140644  020  11  ***    6  OVC  *  *  ...  ******   \n",
       "520  727930  24233  202001140653  020  11  ***    6  OVC  *  *  ...  1010.0   \n",
       "521  727930  24233  202001140753  030  10  ***    6  OVC  *  *  ...  1010.1   \n",
       "\n",
       "       ALT    STP  MAX  MIN       PCP01  PCP06  PCP24  PCPXX   SD  \n",
       "0    *****  991.2   50   47       *****   0.12  *****  *****   **  \n",
       "1    29.75  991.8  ***  ***        0.07  *****  *****  *****   **  \n",
       "2    29.70  990.1  ***  ***        0.10  *****  *****  *****   **  \n",
       "3    29.69  989.8  ***  ***        0.02  *****  *****  *****   **  \n",
       "4    29.66  988.7  ***  ***        0.01  *****  *****   0.13   **  \n",
       "..     ...    ...  ...  ...         ...    ...    ...    ...  ...  \n",
       "517  29.79  993.1  ***  ***       0.00T   0.01  *****  *****   **  \n",
       "518  29.79  993.1  ***  ***       *****  *****  *****  *****   **  \n",
       "519  29.80  993.4  ***  ***       *****  *****  *****  *****   **  \n",
       "520  29.80  993.4  ***  ***        0.01  *****  *****  *****   **  \n",
       "521  29.80  993.4  ***  ***  0.00T*****  *****  *****     **  NaN  \n",
       "\n",
       "[522 rows x 33 columns]>"
      ]
     },
     "execution_count": 6,
     "metadata": {},
     "output_type": "execute_result"
    }
   ],
   "source": [
    "dataset.head"
   ]
  },
  {
   "cell_type": "code",
   "execution_count": 7,
   "metadata": {},
   "outputs": [],
   "source": [
    "# select just datetime and temp columns\n",
    "selectCols = dataset[['YR--MODAHRMN','TEMP']]\n",
    "\n",
    "# create new dataframe with these selected columns\n",
    "newDF=pd.DataFrame()\n",
    "\n",
    "# insert into newDF and rename columns into something less hideous\n",
    "newDF['datetime']=selectCols['YR--MODAHRMN']\n",
    "newDF['temp']=selectCols['TEMP']\n",
    "\n",
    "# convert ugly datetime to a nice looking one\n",
    "newDF['datetime']=pd.to_datetime(newDF['datetime'].astype(str), format='%Y%m%d%H%M', utc=True)"
   ]
  },
  {
   "cell_type": "code",
   "execution_count": 8,
   "metadata": {},
   "outputs": [
    {
     "data": {
      "text/html": [
       "<div>\n",
       "<style scoped>\n",
       "    .dataframe tbody tr th:only-of-type {\n",
       "        vertical-align: middle;\n",
       "    }\n",
       "\n",
       "    .dataframe tbody tr th {\n",
       "        vertical-align: top;\n",
       "    }\n",
       "\n",
       "    .dataframe thead th {\n",
       "        text-align: right;\n",
       "    }\n",
       "</style>\n",
       "<table border=\"1\" class=\"dataframe\">\n",
       "  <thead>\n",
       "    <tr style=\"text-align: right;\">\n",
       "      <th></th>\n",
       "      <th>datetime</th>\n",
       "      <th>temp</th>\n",
       "    </tr>\n",
       "  </thead>\n",
       "  <tbody>\n",
       "    <tr>\n",
       "      <td>0</td>\n",
       "      <td>2020-01-01 00:00:00+00:00</td>\n",
       "      <td>50</td>\n",
       "    </tr>\n",
       "    <tr>\n",
       "      <td>1</td>\n",
       "      <td>2020-01-01 00:29:00+00:00</td>\n",
       "      <td>49</td>\n",
       "    </tr>\n",
       "    <tr>\n",
       "      <td>2</td>\n",
       "      <td>2020-01-01 00:53:00+00:00</td>\n",
       "      <td>49</td>\n",
       "    </tr>\n",
       "    <tr>\n",
       "      <td>3</td>\n",
       "      <td>2020-01-01 01:53:00+00:00</td>\n",
       "      <td>49</td>\n",
       "    </tr>\n",
       "    <tr>\n",
       "      <td>4</td>\n",
       "      <td>2020-01-01 02:53:00+00:00</td>\n",
       "      <td>50</td>\n",
       "    </tr>\n",
       "  </tbody>\n",
       "</table>\n",
       "</div>"
      ],
      "text/plain": [
       "                   datetime temp\n",
       "0 2020-01-01 00:00:00+00:00   50\n",
       "1 2020-01-01 00:29:00+00:00   49\n",
       "2 2020-01-01 00:53:00+00:00   49\n",
       "3 2020-01-01 01:53:00+00:00   49\n",
       "4 2020-01-01 02:53:00+00:00   50"
      ]
     },
     "execution_count": 8,
     "metadata": {},
     "output_type": "execute_result"
    }
   ],
   "source": [
    "newDF.head()"
   ]
  },
  {
   "cell_type": "code",
   "execution_count": 9,
   "metadata": {},
   "outputs": [],
   "source": [
    "# adding new lagged variable columns\n",
    "newColumns = ['T1','T2','T3','T4','T5']\n",
    "newDF = newDF.reindex(columns = [*newDF.columns.tolist(), *newColumns], fill_value=0)"
   ]
  },
  {
   "cell_type": "code",
   "execution_count": 10,
   "metadata": {},
   "outputs": [
    {
     "data": {
      "text/html": [
       "<div>\n",
       "<style scoped>\n",
       "    .dataframe tbody tr th:only-of-type {\n",
       "        vertical-align: middle;\n",
       "    }\n",
       "\n",
       "    .dataframe tbody tr th {\n",
       "        vertical-align: top;\n",
       "    }\n",
       "\n",
       "    .dataframe thead th {\n",
       "        text-align: right;\n",
       "    }\n",
       "</style>\n",
       "<table border=\"1\" class=\"dataframe\">\n",
       "  <thead>\n",
       "    <tr style=\"text-align: right;\">\n",
       "      <th></th>\n",
       "      <th>datetime</th>\n",
       "      <th>temp</th>\n",
       "      <th>T1</th>\n",
       "      <th>T2</th>\n",
       "      <th>T3</th>\n",
       "      <th>T4</th>\n",
       "      <th>T5</th>\n",
       "    </tr>\n",
       "  </thead>\n",
       "  <tbody>\n",
       "    <tr>\n",
       "      <td>0</td>\n",
       "      <td>2020-01-01 00:00:00+00:00</td>\n",
       "      <td>50</td>\n",
       "      <td>0</td>\n",
       "      <td>0</td>\n",
       "      <td>0</td>\n",
       "      <td>0</td>\n",
       "      <td>0</td>\n",
       "    </tr>\n",
       "    <tr>\n",
       "      <td>1</td>\n",
       "      <td>2020-01-01 00:29:00+00:00</td>\n",
       "      <td>49</td>\n",
       "      <td>0</td>\n",
       "      <td>0</td>\n",
       "      <td>0</td>\n",
       "      <td>0</td>\n",
       "      <td>0</td>\n",
       "    </tr>\n",
       "    <tr>\n",
       "      <td>2</td>\n",
       "      <td>2020-01-01 00:53:00+00:00</td>\n",
       "      <td>49</td>\n",
       "      <td>0</td>\n",
       "      <td>0</td>\n",
       "      <td>0</td>\n",
       "      <td>0</td>\n",
       "      <td>0</td>\n",
       "    </tr>\n",
       "    <tr>\n",
       "      <td>3</td>\n",
       "      <td>2020-01-01 01:53:00+00:00</td>\n",
       "      <td>49</td>\n",
       "      <td>0</td>\n",
       "      <td>0</td>\n",
       "      <td>0</td>\n",
       "      <td>0</td>\n",
       "      <td>0</td>\n",
       "    </tr>\n",
       "    <tr>\n",
       "      <td>4</td>\n",
       "      <td>2020-01-01 02:53:00+00:00</td>\n",
       "      <td>50</td>\n",
       "      <td>0</td>\n",
       "      <td>0</td>\n",
       "      <td>0</td>\n",
       "      <td>0</td>\n",
       "      <td>0</td>\n",
       "    </tr>\n",
       "  </tbody>\n",
       "</table>\n",
       "</div>"
      ],
      "text/plain": [
       "                   datetime temp  T1  T2  T3  T4  T5\n",
       "0 2020-01-01 00:00:00+00:00   50   0   0   0   0   0\n",
       "1 2020-01-01 00:29:00+00:00   49   0   0   0   0   0\n",
       "2 2020-01-01 00:53:00+00:00   49   0   0   0   0   0\n",
       "3 2020-01-01 01:53:00+00:00   49   0   0   0   0   0\n",
       "4 2020-01-01 02:53:00+00:00   50   0   0   0   0   0"
      ]
     },
     "execution_count": 10,
     "metadata": {},
     "output_type": "execute_result"
    }
   ],
   "source": [
    "newDF.head()"
   ]
  },
  {
   "cell_type": "code",
   "execution_count": 11,
   "metadata": {},
   "outputs": [],
   "source": [
    "# add lagged variables to T1-T5 columns\n",
    "\n",
    "for i in newDF.columns[newDF.columns.str.contains('T')]:\n",
    "    newDF[i] = newDF['temp'].shift(int(i[-1]),fill_value = 0)"
   ]
  },
  {
   "cell_type": "code",
   "execution_count": 12,
   "metadata": {},
   "outputs": [
    {
     "data": {
      "text/html": [
       "<div>\n",
       "<style scoped>\n",
       "    .dataframe tbody tr th:only-of-type {\n",
       "        vertical-align: middle;\n",
       "    }\n",
       "\n",
       "    .dataframe tbody tr th {\n",
       "        vertical-align: top;\n",
       "    }\n",
       "\n",
       "    .dataframe thead th {\n",
       "        text-align: right;\n",
       "    }\n",
       "</style>\n",
       "<table border=\"1\" class=\"dataframe\">\n",
       "  <thead>\n",
       "    <tr style=\"text-align: right;\">\n",
       "      <th></th>\n",
       "      <th>datetime</th>\n",
       "      <th>temp</th>\n",
       "      <th>T1</th>\n",
       "      <th>T2</th>\n",
       "      <th>T3</th>\n",
       "      <th>T4</th>\n",
       "      <th>T5</th>\n",
       "    </tr>\n",
       "  </thead>\n",
       "  <tbody>\n",
       "    <tr>\n",
       "      <td>0</td>\n",
       "      <td>2020-01-01 00:00:00+00:00</td>\n",
       "      <td>50</td>\n",
       "      <td>0</td>\n",
       "      <td>0</td>\n",
       "      <td>0</td>\n",
       "      <td>0</td>\n",
       "      <td>0</td>\n",
       "    </tr>\n",
       "    <tr>\n",
       "      <td>1</td>\n",
       "      <td>2020-01-01 00:29:00+00:00</td>\n",
       "      <td>49</td>\n",
       "      <td>50</td>\n",
       "      <td>0</td>\n",
       "      <td>0</td>\n",
       "      <td>0</td>\n",
       "      <td>0</td>\n",
       "    </tr>\n",
       "    <tr>\n",
       "      <td>2</td>\n",
       "      <td>2020-01-01 00:53:00+00:00</td>\n",
       "      <td>49</td>\n",
       "      <td>49</td>\n",
       "      <td>50</td>\n",
       "      <td>0</td>\n",
       "      <td>0</td>\n",
       "      <td>0</td>\n",
       "    </tr>\n",
       "    <tr>\n",
       "      <td>3</td>\n",
       "      <td>2020-01-01 01:53:00+00:00</td>\n",
       "      <td>49</td>\n",
       "      <td>49</td>\n",
       "      <td>49</td>\n",
       "      <td>50</td>\n",
       "      <td>0</td>\n",
       "      <td>0</td>\n",
       "    </tr>\n",
       "    <tr>\n",
       "      <td>4</td>\n",
       "      <td>2020-01-01 02:53:00+00:00</td>\n",
       "      <td>50</td>\n",
       "      <td>49</td>\n",
       "      <td>49</td>\n",
       "      <td>49</td>\n",
       "      <td>50</td>\n",
       "      <td>0</td>\n",
       "    </tr>\n",
       "  </tbody>\n",
       "</table>\n",
       "</div>"
      ],
      "text/plain": [
       "                   datetime temp  T1  T2  T3  T4 T5\n",
       "0 2020-01-01 00:00:00+00:00   50   0   0   0   0  0\n",
       "1 2020-01-01 00:29:00+00:00   49  50   0   0   0  0\n",
       "2 2020-01-01 00:53:00+00:00   49  49  50   0   0  0\n",
       "3 2020-01-01 01:53:00+00:00   49  49  49  50   0  0\n",
       "4 2020-01-01 02:53:00+00:00   50  49  49  49  50  0"
      ]
     },
     "execution_count": 12,
     "metadata": {},
     "output_type": "execute_result"
    }
   ],
   "source": [
    "newDF.head()"
   ]
  },
  {
   "cell_type": "code",
   "execution_count": null,
   "metadata": {},
   "outputs": [],
   "source": []
  },
  {
   "cell_type": "code",
   "execution_count": null,
   "metadata": {},
   "outputs": [],
   "source": []
  }
 ],
 "metadata": {
  "kernelspec": {
   "display_name": "Python 3",
   "language": "python",
   "name": "python3"
  },
  "language_info": {
   "codemirror_mode": {
    "name": "ipython",
    "version": 3
   },
   "file_extension": ".py",
   "mimetype": "text/x-python",
   "name": "python",
   "nbconvert_exporter": "python",
   "pygments_lexer": "ipython3",
   "version": "3.7.4"
  }
 },
 "nbformat": 4,
 "nbformat_minor": 4
}
