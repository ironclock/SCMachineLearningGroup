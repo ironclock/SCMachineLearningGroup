{
 "cells": [
  {
   "cell_type": "code",
   "execution_count": 12,
   "metadata": {},
   "outputs": [],
   "source": [
    "# notebook to inspect the SCL data \n",
    "\n",
    "%matplotlib inline\n",
    "import numpy as np\n",
    "import pandas as pd\n",
    "from pandas.tseries.holiday import USFederalHolidayCalendar as calendar"
   ]
  },
  {
   "cell_type": "code",
   "execution_count": 2,
   "metadata": {},
   "outputs": [],
   "source": [
    "data=pd.read_csv(\"SEA_DATA/Energy Consumption/SCL_demand.csv\",skiprows=4)"
   ]
  },
  {
   "cell_type": "code",
   "execution_count": 3,
   "metadata": {},
   "outputs": [
    {
     "data": {
      "text/html": [
       "<div>\n",
       "<style scoped>\n",
       "    .dataframe tbody tr th:only-of-type {\n",
       "        vertical-align: middle;\n",
       "    }\n",
       "\n",
       "    .dataframe tbody tr th {\n",
       "        vertical-align: top;\n",
       "    }\n",
       "\n",
       "    .dataframe thead th {\n",
       "        text-align: right;\n",
       "    }\n",
       "</style>\n",
       "<table border=\"1\" class=\"dataframe\">\n",
       "  <thead>\n",
       "    <tr style=\"text-align: right;\">\n",
       "      <th></th>\n",
       "      <th>Category</th>\n",
       "      <th>Series ID: EBA.SCL-ALL.D.HL megawatthours</th>\n",
       "    </tr>\n",
       "  </thead>\n",
       "  <tbody>\n",
       "    <tr>\n",
       "      <td>0</td>\n",
       "      <td>01/14/20 15:00 -0800</td>\n",
       "      <td>1443.0</td>\n",
       "    </tr>\n",
       "    <tr>\n",
       "      <td>1</td>\n",
       "      <td>01/14/20 14:00 -0800</td>\n",
       "      <td>1694.0</td>\n",
       "    </tr>\n",
       "    <tr>\n",
       "      <td>2</td>\n",
       "      <td>01/14/20 13:00 -0800</td>\n",
       "      <td>1718.0</td>\n",
       "    </tr>\n",
       "    <tr>\n",
       "      <td>3</td>\n",
       "      <td>01/14/20 12:00 -0800</td>\n",
       "      <td>1733.0</td>\n",
       "    </tr>\n",
       "    <tr>\n",
       "      <td>4</td>\n",
       "      <td>01/14/20 11:00 -0800</td>\n",
       "      <td>1724.0</td>\n",
       "    </tr>\n",
       "  </tbody>\n",
       "</table>\n",
       "</div>"
      ],
      "text/plain": [
       "               Category  Series ID: EBA.SCL-ALL.D.HL megawatthours\n",
       "0  01/14/20 15:00 -0800                                     1443.0\n",
       "1  01/14/20 14:00 -0800                                     1694.0\n",
       "2  01/14/20 13:00 -0800                                     1718.0\n",
       "3  01/14/20 12:00 -0800                                     1733.0\n",
       "4  01/14/20 11:00 -0800                                     1724.0"
      ]
     },
     "execution_count": 3,
     "metadata": {},
     "output_type": "execute_result"
    }
   ],
   "source": [
    "data.head()"
   ]
  },
  {
   "cell_type": "code",
   "execution_count": 4,
   "metadata": {},
   "outputs": [
    {
     "data": {
      "text/html": [
       "<div>\n",
       "<style scoped>\n",
       "    .dataframe tbody tr th:only-of-type {\n",
       "        vertical-align: middle;\n",
       "    }\n",
       "\n",
       "    .dataframe tbody tr th {\n",
       "        vertical-align: top;\n",
       "    }\n",
       "\n",
       "    .dataframe thead th {\n",
       "        text-align: right;\n",
       "    }\n",
       "</style>\n",
       "<table border=\"1\" class=\"dataframe\">\n",
       "  <thead>\n",
       "    <tr style=\"text-align: right;\">\n",
       "      <th></th>\n",
       "      <th>Category</th>\n",
       "      <th>Series ID: EBA.SCL-ALL.D.HL megawatthours</th>\n",
       "    </tr>\n",
       "  </thead>\n",
       "  <tbody>\n",
       "    <tr>\n",
       "      <td>39801</td>\n",
       "      <td>07/01/15 05:00 -0700</td>\n",
       "      <td>807.0</td>\n",
       "    </tr>\n",
       "    <tr>\n",
       "      <td>39802</td>\n",
       "      <td>07/01/15 04:00 -0700</td>\n",
       "      <td>796.0</td>\n",
       "    </tr>\n",
       "    <tr>\n",
       "      <td>39803</td>\n",
       "      <td>07/01/15 03:00 -0700</td>\n",
       "      <td>802.0</td>\n",
       "    </tr>\n",
       "    <tr>\n",
       "      <td>39804</td>\n",
       "      <td>07/01/15 02:00 -0700</td>\n",
       "      <td>833.0</td>\n",
       "    </tr>\n",
       "    <tr>\n",
       "      <td>39805</td>\n",
       "      <td>07/01/15 01:00 -0700</td>\n",
       "      <td>873.0</td>\n",
       "    </tr>\n",
       "  </tbody>\n",
       "</table>\n",
       "</div>"
      ],
      "text/plain": [
       "                   Category  Series ID: EBA.SCL-ALL.D.HL megawatthours\n",
       "39801  07/01/15 05:00 -0700                                      807.0\n",
       "39802  07/01/15 04:00 -0700                                      796.0\n",
       "39803  07/01/15 03:00 -0700                                      802.0\n",
       "39804  07/01/15 02:00 -0700                                      833.0\n",
       "39805  07/01/15 01:00 -0700                                      873.0"
      ]
     },
     "execution_count": 4,
     "metadata": {},
     "output_type": "execute_result"
    }
   ],
   "source": [
    "data.tail()"
   ]
  },
  {
   "cell_type": "code",
   "execution_count": 5,
   "metadata": {},
   "outputs": [
    {
     "name": "stdout",
     "output_type": "stream",
     "text": [
      "['Category' 'Series ID: EBA.SCL-ALL.D.HL megawatthours']\n"
     ]
    }
   ],
   "source": [
    "columns=data.columns.values\n",
    "# not sure what all the columns mean\n",
    "# in particular what is the last number in category? \n",
    "print(columns)"
   ]
  },
  {
   "cell_type": "code",
   "execution_count": 6,
   "metadata": {},
   "outputs": [],
   "source": [
    "# create new dataframe \n",
    "\n",
    "SCL=pd.DataFrame()\n",
    "SCL[\"time\"]=data[\"Category\"].values\n",
    "SCL[\"MWh\"]=data[\"Series ID: EBA.SCL-ALL.D.HL megawatthours\"]"
   ]
  },
  {
   "cell_type": "code",
   "execution_count": 7,
   "metadata": {},
   "outputs": [
    {
     "data": {
      "text/html": [
       "<div>\n",
       "<style scoped>\n",
       "    .dataframe tbody tr th:only-of-type {\n",
       "        vertical-align: middle;\n",
       "    }\n",
       "\n",
       "    .dataframe tbody tr th {\n",
       "        vertical-align: top;\n",
       "    }\n",
       "\n",
       "    .dataframe thead th {\n",
       "        text-align: right;\n",
       "    }\n",
       "</style>\n",
       "<table border=\"1\" class=\"dataframe\">\n",
       "  <thead>\n",
       "    <tr style=\"text-align: right;\">\n",
       "      <th></th>\n",
       "      <th>time</th>\n",
       "      <th>MWh</th>\n",
       "    </tr>\n",
       "  </thead>\n",
       "  <tbody>\n",
       "    <tr>\n",
       "      <td>0</td>\n",
       "      <td>01/14/20 15:00 -0800</td>\n",
       "      <td>1443.0</td>\n",
       "    </tr>\n",
       "    <tr>\n",
       "      <td>1</td>\n",
       "      <td>01/14/20 14:00 -0800</td>\n",
       "      <td>1694.0</td>\n",
       "    </tr>\n",
       "    <tr>\n",
       "      <td>2</td>\n",
       "      <td>01/14/20 13:00 -0800</td>\n",
       "      <td>1718.0</td>\n",
       "    </tr>\n",
       "    <tr>\n",
       "      <td>3</td>\n",
       "      <td>01/14/20 12:00 -0800</td>\n",
       "      <td>1733.0</td>\n",
       "    </tr>\n",
       "    <tr>\n",
       "      <td>4</td>\n",
       "      <td>01/14/20 11:00 -0800</td>\n",
       "      <td>1724.0</td>\n",
       "    </tr>\n",
       "  </tbody>\n",
       "</table>\n",
       "</div>"
      ],
      "text/plain": [
       "                   time     MWh\n",
       "0  01/14/20 15:00 -0800  1443.0\n",
       "1  01/14/20 14:00 -0800  1694.0\n",
       "2  01/14/20 13:00 -0800  1718.0\n",
       "3  01/14/20 12:00 -0800  1733.0\n",
       "4  01/14/20 11:00 -0800  1724.0"
      ]
     },
     "execution_count": 7,
     "metadata": {},
     "output_type": "execute_result"
    }
   ],
   "source": [
    "SCL.head()"
   ]
  },
  {
   "cell_type": "code",
   "execution_count": 8,
   "metadata": {},
   "outputs": [
    {
     "data": {
      "text/plain": [
       "(39806, 2)"
      ]
     },
     "execution_count": 8,
     "metadata": {},
     "output_type": "execute_result"
    }
   ],
   "source": [
    "# shape of data frame\n",
    "SCL.shape"
   ]
  },
  {
   "cell_type": "code",
   "execution_count": 9,
   "metadata": {},
   "outputs": [],
   "source": [
    "# change time column to a datetime \n",
    "SCL.time=pd.to_datetime(SCL.time.values,utc=True)"
   ]
  },
  {
   "cell_type": "code",
   "execution_count": 10,
   "metadata": {},
   "outputs": [
    {
     "data": {
      "text/html": [
       "<div>\n",
       "<style scoped>\n",
       "    .dataframe tbody tr th:only-of-type {\n",
       "        vertical-align: middle;\n",
       "    }\n",
       "\n",
       "    .dataframe tbody tr th {\n",
       "        vertical-align: top;\n",
       "    }\n",
       "\n",
       "    .dataframe thead th {\n",
       "        text-align: right;\n",
       "    }\n",
       "</style>\n",
       "<table border=\"1\" class=\"dataframe\">\n",
       "  <thead>\n",
       "    <tr style=\"text-align: right;\">\n",
       "      <th></th>\n",
       "      <th>time</th>\n",
       "      <th>MWh</th>\n",
       "    </tr>\n",
       "  </thead>\n",
       "  <tbody>\n",
       "    <tr>\n",
       "      <td>0</td>\n",
       "      <td>2020-01-14 23:00:00+00:00</td>\n",
       "      <td>1443.0</td>\n",
       "    </tr>\n",
       "    <tr>\n",
       "      <td>1</td>\n",
       "      <td>2020-01-14 22:00:00+00:00</td>\n",
       "      <td>1694.0</td>\n",
       "    </tr>\n",
       "    <tr>\n",
       "      <td>2</td>\n",
       "      <td>2020-01-14 21:00:00+00:00</td>\n",
       "      <td>1718.0</td>\n",
       "    </tr>\n",
       "    <tr>\n",
       "      <td>3</td>\n",
       "      <td>2020-01-14 20:00:00+00:00</td>\n",
       "      <td>1733.0</td>\n",
       "    </tr>\n",
       "    <tr>\n",
       "      <td>4</td>\n",
       "      <td>2020-01-14 19:00:00+00:00</td>\n",
       "      <td>1724.0</td>\n",
       "    </tr>\n",
       "  </tbody>\n",
       "</table>\n",
       "</div>"
      ],
      "text/plain": [
       "                       time     MWh\n",
       "0 2020-01-14 23:00:00+00:00  1443.0\n",
       "1 2020-01-14 22:00:00+00:00  1694.0\n",
       "2 2020-01-14 21:00:00+00:00  1718.0\n",
       "3 2020-01-14 20:00:00+00:00  1733.0\n",
       "4 2020-01-14 19:00:00+00:00  1724.0"
      ]
     },
     "execution_count": 10,
     "metadata": {},
     "output_type": "execute_result"
    }
   ],
   "source": [
    "SCL.head()"
   ]
  },
  {
   "cell_type": "code",
   "execution_count": 17,
   "metadata": {},
   "outputs": [],
   "source": [
    "# add year, month, day, hour\n",
    "SCL[\"year\"]=SCL.time.dt.year\n",
    "SCL[\"month\"]=SCL.time.dt.month\n",
    "SCL[\"day\"]=SCL.time.dt.day\n",
    "SCL[\"hour\"]=SCL.time.dt.hour\n",
    "\n",
    "# add date\n",
    "SCL[\"date\"]=pd.to_datetime({\"year\":SCL[\"year\"],\"month\":SCL[\"month\"],\"day\":SCL[\"day\"]})\n",
    "\n",
    "# add day of week \n",
    "SCL[\"day of week\"]=SCL.date.dt.dayofweek\n",
    "#SCL[\"weekday\"]=SCL.date.dt.weekday\n",
    "\n",
    "# add weekend check\n",
    "SCL[\"weekend\"]=((SCL.date.dt.dayofweek // 5 == 1)).astype(int)\n",
    "\n",
    "# add holiday check\n",
    "cal = calendar();\n",
    "holidays=cal.holidays(start=SCL.index.min(), end=SCL.index.max())\n",
    "SCL[\"holiday\"]=SCL.index.isin(holidays)\n",
    "\n",
    "# add 3 day weekend check\n",
    "thday=[False]*SCL.shape[0]\n",
    "\n",
    "# add 3 day holiday weekend check\n",
    "for i in range(0,SCL.shape[0]):\n",
    "    if SCL[\"holiday\"].iloc[i]==True:\n",
    "\n",
    "        # on a Monday\n",
    "        if SCL[\"day\"].iloc[i]==0:\n",
    "            thday[i]=True\n",
    "            if i > 1:\n",
    "                thday[i-1]=True\n",
    "            if i > 2:\n",
    "                thday[i-2]=True\n",
    "        # on a Friday\n",
    "        if SCL[\"day\"].iloc[i]==4:\n",
    "            thday[i]=True\n",
    "\n",
    "            if i < SCL.shape[0]-1:\n",
    "                thday[i+1]=True\n",
    "            if i < SCL.shape[0]-2:\n",
    "                thday[i+2]=True\n",
    "\n",
    "SCL[\"3-day holiday wkend\"]=thday"
   ]
  },
  {
   "cell_type": "code",
   "execution_count": 18,
   "metadata": {},
   "outputs": [
    {
     "data": {
      "text/html": [
       "<div>\n",
       "<style scoped>\n",
       "    .dataframe tbody tr th:only-of-type {\n",
       "        vertical-align: middle;\n",
       "    }\n",
       "\n",
       "    .dataframe tbody tr th {\n",
       "        vertical-align: top;\n",
       "    }\n",
       "\n",
       "    .dataframe thead th {\n",
       "        text-align: right;\n",
       "    }\n",
       "</style>\n",
       "<table border=\"1\" class=\"dataframe\">\n",
       "  <thead>\n",
       "    <tr style=\"text-align: right;\">\n",
       "      <th></th>\n",
       "      <th>time</th>\n",
       "      <th>MWh</th>\n",
       "      <th>year</th>\n",
       "      <th>month</th>\n",
       "      <th>day</th>\n",
       "      <th>hour</th>\n",
       "      <th>date</th>\n",
       "      <th>day of week</th>\n",
       "      <th>weekend</th>\n",
       "      <th>holiday</th>\n",
       "      <th>3-day wkend</th>\n",
       "      <th>3-day holiday wkend</th>\n",
       "    </tr>\n",
       "  </thead>\n",
       "  <tbody>\n",
       "    <tr>\n",
       "      <td>0</td>\n",
       "      <td>2020-01-14 23:00:00+00:00</td>\n",
       "      <td>1443.0</td>\n",
       "      <td>2020</td>\n",
       "      <td>1</td>\n",
       "      <td>14</td>\n",
       "      <td>23</td>\n",
       "      <td>2020-01-14</td>\n",
       "      <td>1</td>\n",
       "      <td>0</td>\n",
       "      <td>False</td>\n",
       "      <td>False</td>\n",
       "      <td>False</td>\n",
       "    </tr>\n",
       "    <tr>\n",
       "      <td>1</td>\n",
       "      <td>2020-01-14 22:00:00+00:00</td>\n",
       "      <td>1694.0</td>\n",
       "      <td>2020</td>\n",
       "      <td>1</td>\n",
       "      <td>14</td>\n",
       "      <td>22</td>\n",
       "      <td>2020-01-14</td>\n",
       "      <td>1</td>\n",
       "      <td>0</td>\n",
       "      <td>False</td>\n",
       "      <td>False</td>\n",
       "      <td>False</td>\n",
       "    </tr>\n",
       "    <tr>\n",
       "      <td>2</td>\n",
       "      <td>2020-01-14 21:00:00+00:00</td>\n",
       "      <td>1718.0</td>\n",
       "      <td>2020</td>\n",
       "      <td>1</td>\n",
       "      <td>14</td>\n",
       "      <td>21</td>\n",
       "      <td>2020-01-14</td>\n",
       "      <td>1</td>\n",
       "      <td>0</td>\n",
       "      <td>False</td>\n",
       "      <td>False</td>\n",
       "      <td>False</td>\n",
       "    </tr>\n",
       "    <tr>\n",
       "      <td>3</td>\n",
       "      <td>2020-01-14 20:00:00+00:00</td>\n",
       "      <td>1733.0</td>\n",
       "      <td>2020</td>\n",
       "      <td>1</td>\n",
       "      <td>14</td>\n",
       "      <td>20</td>\n",
       "      <td>2020-01-14</td>\n",
       "      <td>1</td>\n",
       "      <td>0</td>\n",
       "      <td>False</td>\n",
       "      <td>False</td>\n",
       "      <td>False</td>\n",
       "    </tr>\n",
       "    <tr>\n",
       "      <td>4</td>\n",
       "      <td>2020-01-14 19:00:00+00:00</td>\n",
       "      <td>1724.0</td>\n",
       "      <td>2020</td>\n",
       "      <td>1</td>\n",
       "      <td>14</td>\n",
       "      <td>19</td>\n",
       "      <td>2020-01-14</td>\n",
       "      <td>1</td>\n",
       "      <td>0</td>\n",
       "      <td>False</td>\n",
       "      <td>False</td>\n",
       "      <td>False</td>\n",
       "    </tr>\n",
       "  </tbody>\n",
       "</table>\n",
       "</div>"
      ],
      "text/plain": [
       "                       time     MWh  year  month  day  hour       date  \\\n",
       "0 2020-01-14 23:00:00+00:00  1443.0  2020      1   14    23 2020-01-14   \n",
       "1 2020-01-14 22:00:00+00:00  1694.0  2020      1   14    22 2020-01-14   \n",
       "2 2020-01-14 21:00:00+00:00  1718.0  2020      1   14    21 2020-01-14   \n",
       "3 2020-01-14 20:00:00+00:00  1733.0  2020      1   14    20 2020-01-14   \n",
       "4 2020-01-14 19:00:00+00:00  1724.0  2020      1   14    19 2020-01-14   \n",
       "\n",
       "   day of week  weekend  holiday  3-day wkend  3-day holiday wkend  \n",
       "0            1        0    False        False                False  \n",
       "1            1        0    False        False                False  \n",
       "2            1        0    False        False                False  \n",
       "3            1        0    False        False                False  \n",
       "4            1        0    False        False                False  "
      ]
     },
     "execution_count": 18,
     "metadata": {},
     "output_type": "execute_result"
    }
   ],
   "source": [
    "SCL.head()"
   ]
  },
  {
   "cell_type": "code",
   "execution_count": 62,
   "metadata": {},
   "outputs": [
    {
     "data": {
      "text/plain": [
       "<matplotlib.axes._subplots.AxesSubplot at 0x113934490>"
      ]
     },
     "execution_count": 62,
     "metadata": {},
     "output_type": "execute_result"
    },
    {
     "data": {
      "image/png": "[encoded data removed]",
      "text/plain": [
       "<Figure size 432x288 with 1 Axes>"
      ]
     },
     "metadata": {
      "needs_background": "light"
     },
     "output_type": "display_data"
    }
   ],
   "source": [
    "# plot data \n",
    "\n",
    "SCL.MWh.plot(grid=True)"
   ]
  },
  {
   "cell_type": "code",
   "execution_count": 63,
   "metadata": {},
   "outputs": [
    {
     "data": {
      "text/plain": [
       "'\\nTo do: \\n* Have Jon add a column for weekend not weekend, holiday, and threeday weekend\\n* Have Renee write fucntion to clean the data. \\n\\n'"
      ]
     },
     "execution_count": 63,
     "metadata": {},
     "output_type": "execute_result"
    }
   ],
   "source": [
    "'''\n",
    "To do: \n",
    "* Have Jon add a column for weekend not weekend, holiday, and threeday weekend\n",
    "* Have Renee write fucntion to clean the data. \n",
    "\n",
    "''' \n"
   ]
  },
  {
   "cell_type": "code",
   "execution_count": null,
   "metadata": {},
   "outputs": [],
   "source": []
  }
 ],
 "metadata": {
  "kernelspec": {
   "display_name": "Python 3",
   "language": "python",
   "name": "python3"
  },
  "language_info": {
   "codemirror_mode": {
    "name": "ipython",
    "version": 3
   },
   "file_extension": ".py",
   "mimetype": "text/x-python",
   "name": "python",
   "nbconvert_exporter": "python",
   "pygments_lexer": "ipython3",
   "version": "3.7.4"
  }
 },
 "nbformat": 4,
 "nbformat_minor": 4
}
