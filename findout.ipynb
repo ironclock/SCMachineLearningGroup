{
 "cells": [
  {
   "cell_type": "code",
   "execution_count": 340,
   "metadata": {},
   "outputs": [],
   "source": [
    "import numpy as np\n",
    "import pandas as pd\n",
    "\n",
    "%matplotlib inline\n",
    "import matplotlib.pyplot as plt"
   ]
  },
  {
   "cell_type": "code",
   "execution_count": 341,
   "metadata": {},
   "outputs": [],
   "source": [
    "data=pd.read_csv(\"c:/Users/renee/desktop/project/MRCC_5.csv\")"
   ]
  },
  {
   "cell_type": "code",
   "execution_count": 342,
   "metadata": {},
   "outputs": [
    {
     "data": {
      "text/html": [
       "<div>\n",
       "<style scoped>\n",
       "    .dataframe tbody tr th:only-of-type {\n",
       "        vertical-align: middle;\n",
       "    }\n",
       "\n",
       "    .dataframe tbody tr th {\n",
       "        vertical-align: top;\n",
       "    }\n",
       "\n",
       "    .dataframe thead th {\n",
       "        text-align: right;\n",
       "    }\n",
       "</style>\n",
       "<table border=\"1\" class=\"dataframe\">\n",
       "  <thead>\n",
       "    <tr style=\"text-align: right;\">\n",
       "      <th></th>\n",
       "      <th>Unnamed: 0</th>\n",
       "      <th>Date</th>\n",
       "      <th>Hour</th>\n",
       "      <th>Temp</th>\n",
       "      <th>RH</th>\n",
       "      <th>Dewpt</th>\n",
       "      <th>Wind_Spd</th>\n",
       "      <th>Wind_Direction</th>\n",
       "    </tr>\n",
       "  </thead>\n",
       "  <tbody>\n",
       "    <tr>\n",
       "      <td>0</td>\n",
       "      <td>0</td>\n",
       "      <td>2020-01-14</td>\n",
       "      <td>23</td>\n",
       "      <td>36</td>\n",
       "      <td>61</td>\n",
       "      <td>24</td>\n",
       "      <td>18</td>\n",
       "      <td>170</td>\n",
       "    </tr>\n",
       "    <tr>\n",
       "      <td>1</td>\n",
       "      <td>1</td>\n",
       "      <td>2020-01-14</td>\n",
       "      <td>22</td>\n",
       "      <td>36</td>\n",
       "      <td>66</td>\n",
       "      <td>26</td>\n",
       "      <td>16</td>\n",
       "      <td>180</td>\n",
       "    </tr>\n",
       "    <tr>\n",
       "      <td>2</td>\n",
       "      <td>2</td>\n",
       "      <td>2020-01-14</td>\n",
       "      <td>21</td>\n",
       "      <td>36</td>\n",
       "      <td>67</td>\n",
       "      <td>26</td>\n",
       "      <td>17</td>\n",
       "      <td>170</td>\n",
       "    </tr>\n",
       "    <tr>\n",
       "      <td>3</td>\n",
       "      <td>3</td>\n",
       "      <td>2020-01-14</td>\n",
       "      <td>20</td>\n",
       "      <td>35</td>\n",
       "      <td>72</td>\n",
       "      <td>27</td>\n",
       "      <td>15</td>\n",
       "      <td>170</td>\n",
       "    </tr>\n",
       "    <tr>\n",
       "      <td>4</td>\n",
       "      <td>4</td>\n",
       "      <td>2020-01-14</td>\n",
       "      <td>19</td>\n",
       "      <td>34</td>\n",
       "      <td>78</td>\n",
       "      <td>28</td>\n",
       "      <td>10</td>\n",
       "      <td>170</td>\n",
       "    </tr>\n",
       "  </tbody>\n",
       "</table>\n",
       "</div>"
      ],
      "text/plain": [
       "   Unnamed: 0        Date  Hour Temp  RH Dewpt Wind_Spd Wind_Direction\n",
       "0           0  2020-01-14    23   36  61    24       18            170\n",
       "1           1  2020-01-14    22   36  66    26       16            180\n",
       "2           2  2020-01-14    21   36  67    26       17            170\n",
       "3           3  2020-01-14    20   35  72    27       15            170\n",
       "4           4  2020-01-14    19   34  78    28       10            170"
      ]
     },
     "execution_count": 342,
     "metadata": {},
     "output_type": "execute_result"
    }
   ],
   "source": [
    "data.head()"
   ]
  },
  {
   "cell_type": "code",
   "execution_count": 343,
   "metadata": {},
   "outputs": [],
   "source": [
    "date=data.Date.values\n",
    "hour=data.Hour.values\n",
    "temp=data.Temp.values\n",
    "rh=data.RH.values\n",
    "dewpt=data.Dewpt.values\n",
    "wind_spd=data.Wind_Spd.values\n",
    "wind_dir=data.Wind_Direction.values"
   ]
  },
  {
   "cell_type": "code",
   "execution_count": 344,
   "metadata": {},
   "outputs": [],
   "source": [
    "temp=pd.to_numeric(temp, errors='coerce')\n",
    "hour=pd.to_numeric(hour, errors='coerce')\n",
    "date=pd.to_numeric(date, errors='coerce')\n",
    "rh=pd.to_numeric(rh, errors='coerce')\n",
    "dewpt=pd.to_numeric(dewpt, errors='coerce')"
   ]
  },
  {
   "cell_type": "code",
   "execution_count": 345,
   "metadata": {},
   "outputs": [],
   "source": [
    "data['Date'] = pd.to_datetime(data['Date'])"
   ]
  },
  {
   "cell_type": "code",
   "execution_count": 346,
   "metadata": {},
   "outputs": [],
   "source": [
    "dateind=data.Date.dt.strftime('%Y%m%d').astype(int)"
   ]
  },
  {
   "cell_type": "code",
   "execution_count": 347,
   "metadata": {},
   "outputs": [
    {
     "data": {
      "text/plain": [
       "39739"
      ]
     },
     "execution_count": 347,
     "metadata": {},
     "output_type": "execute_result"
    }
   ],
   "source": [
    "dateind.size"
   ]
  },
  {
   "cell_type": "code",
   "execution_count": 348,
   "metadata": {},
   "outputs": [],
   "source": [
    "hour=pd.Series(hour)"
   ]
  },
  {
   "cell_type": "code",
   "execution_count": 349,
   "metadata": {},
   "outputs": [
    {
     "name": "stdout",
     "output_type": "stream",
     "text": [
      "There are 4966 late hours in the data\n"
     ]
    }
   ],
   "source": [
    "idlate=np.where(hour > 20)[0]\n",
    "print(\"There are\", idlate.size, \"late hours in the data\")"
   ]
  },
  {
   "cell_type": "code",
   "execution_count": 350,
   "metadata": {},
   "outputs": [
    {
     "name": "stdout",
     "output_type": "stream",
     "text": [
      "There are  0 null values in the data.\n"
     ]
    }
   ],
   "source": [
    "idnan=np.array(data[data[\"Temp\"].isnull()].index)\n",
    "print(\"There are \", idnan.size, \"null values in the data.\")"
   ]
  },
  {
   "cell_type": "code",
   "execution_count": 351,
   "metadata": {},
   "outputs": [
    {
     "name": "stderr",
     "output_type": "stream",
     "text": [
      "C:\\Users\\renee\\Anaconda3\\lib\\site-packages\\ipykernel_launcher.py:1: RuntimeWarning: invalid value encountered in less\n",
      "  \"\"\"Entry point for launching an IPython kernel.\n"
     ]
    },
    {
     "data": {
      "text/plain": [
       "619"
      ]
     },
     "execution_count": 351,
     "metadata": {},
     "output_type": "execute_result"
    }
   ],
   "source": [
    "idcold=np.where(temp < 32)[0]\n",
    "idcold.size\n"
   ]
  },
  {
   "cell_type": "code",
   "execution_count": 352,
   "metadata": {},
   "outputs": [
    {
     "name": "stdout",
     "output_type": "stream",
     "text": [
      "There are 7370 warm days in the data\n"
     ]
    },
    {
     "name": "stderr",
     "output_type": "stream",
     "text": [
      "C:\\Users\\renee\\Anaconda3\\lib\\site-packages\\ipykernel_launcher.py:1: RuntimeWarning: invalid value encountered in greater\n",
      "  \"\"\"Entry point for launching an IPython kernel.\n"
     ]
    }
   ],
   "source": [
    "idwarm=np.where(temp > 65)[0]\n",
    "print(\"There are\", idwarm.size, \"warm days in the data\")"
   ]
  },
  {
   "cell_type": "code",
   "execution_count": 245,
   "metadata": {},
   "outputs": [
    {
     "data": {
      "text/plain": [
       "array([    9,    10,    11,    12,    13,    15,    16,    17,    18,\n",
       "          19,    20,    21,    22,    23,    24,    25,    26,    27,\n",
       "         473,   474,   475,   476,   477,   478,  1094,  1095,  1096,\n",
       "        1097,  1098,  1099,  1100,  1101,  1102,  1103,  1104,  1105,\n",
       "        1106,  1119,  1120,  1121,  1125,  1143,  1144,  1145,  1147,\n",
       "        1841,  7421,  7443,  7444,  7445,  7446,  7447,  7467,  7468,\n",
       "        7469,  7470,  7471,  7472,  7473,  7474,  7475,  7564,  7565,\n",
       "        7566,  7567,  7568,  7569,  7587,  7588,  7589,  7590,  7591,\n",
       "        7592,  7593,  7611,  7612,  7613,  7614,  7615,  7617,  7684,\n",
       "        7685,  7686,  7688,  7689,  7732,  7756,  7851,  8023,  8024,\n",
       "        8025,  8091,  8092,  8093,  8094,  8110,  8111,  8112,  8113,\n",
       "        8114,  8115,  8116,  8117,  8118,  8119,  8120,  8121,  8122,\n",
       "        8123,  8124,  8125,  8126,  8127,  8128,  8129,  8138,  8139,\n",
       "        8140,  8141,  8142,  8143,  8144,  8145,  8146,  8147,  8148,\n",
       "        8149,  8164,  8165,  8166,  8167,  8168,  8169,  8171,  8185,\n",
       "        8186,  8187,  8188,  8189,  8190,  8191,  8192,  8193,  8194,\n",
       "        8195,  8196,  8197,  8198,  8199,  8200,  8208,  8209,  8210,\n",
       "        8211,  8212,  8213,  8214,  8215,  8216,  8217,  8218,  8219,\n",
       "        8220,  8221,  8222,  8223,  8224,  8232,  8233,  8234,  8235,\n",
       "        8236,  8237,  8238,  8239,  8240,  8241,  8242,  8243,  8244,\n",
       "        8245,  8246,  8247,  8248,  8249,  8250,  8251,  8252,  8253,\n",
       "        8254,  8255,  8256,  8257,  8258,  8259,  8260,  8261,  8262,\n",
       "        8263,  8264,  8265,  8719,  8738,  8739,  8740,  8741,  8742,\n",
       "        8765,  9058,  9667,  9668,  9669,  9670,  9671,  9672,  9673,\n",
       "        9674,  9675,  9676,  9692,  9693,  9694,  9695,  9696,  9697,\n",
       "        9698,  9699,  9700,  9702,  9703,  9719,  9720,  9721,  9722,\n",
       "       16477, 16478, 16545, 16546, 16547, 16548, 16549, 16550, 16551,\n",
       "       16552, 16553, 16554, 16555, 16556, 16571, 16572, 16573, 16574,\n",
       "       16575, 16576, 16594, 16595, 16596, 16597, 16598, 16599, 16600,\n",
       "       16601, 16602, 16603, 16619, 16620, 16621, 16622, 16623, 16624,\n",
       "       16625, 16626, 16627, 16628, 16629, 16630, 16643, 16644, 16645,\n",
       "       16787, 16788, 16789, 16790, 16791, 16792, 16793, 16794, 16795,\n",
       "       16859, 17819, 17820, 17821, 18011, 18012, 18013, 18014, 18015,\n",
       "       18016, 18017, 18018, 18019, 18020, 18021, 18022, 18035, 18082,\n",
       "       18083, 18084, 18085, 18086, 18087, 18088, 18089, 18090, 18091,\n",
       "       18303, 18304, 18322, 18323, 18324, 18325, 18326, 18327, 18328,\n",
       "       18329, 18330, 18331, 18349, 18370, 18371, 18372, 18373, 18375,\n",
       "       18378, 18379, 18399, 18400, 18401, 25188, 25261, 25715, 25810,\n",
       "       25811, 25812, 25813, 25834, 25835, 25836, 26029, 26030, 26031,\n",
       "       26218, 26219, 26220, 26221, 26222, 26228, 26229, 26241, 26242,\n",
       "       26243, 26244, 26245, 26246, 26247, 26248, 26249, 26250, 26265,\n",
       "       26266, 26267, 26268, 26269, 26270, 26271, 26272, 26288, 26289,\n",
       "       26290, 26291, 26292, 26293, 26294, 26295, 26296, 26297, 26298,\n",
       "       26299, 26300, 26301, 26312, 26313, 26314, 26315, 26316, 26317,\n",
       "       26318, 26319, 26320, 26321, 26322, 26323, 26324, 26325, 26339,\n",
       "       26340, 26341, 26342, 26434, 26435, 26436, 26437, 26438, 26439,\n",
       "       26440, 26441, 26442, 26443, 26444, 26445, 26446, 26447, 26456,\n",
       "       26457, 26458, 26459, 26460, 26461, 26462, 26463, 26464, 26465,\n",
       "       26466, 26467, 26468, 26469, 26470, 26471, 26472, 26479, 26480,\n",
       "       26481, 26482, 26483, 26484, 26485, 26486, 26487, 26488, 26489,\n",
       "       26490, 26491, 26492, 26495, 26505, 26506, 26507, 26508, 26509,\n",
       "       26510, 26511, 26512, 26513, 26514, 26515, 26516, 26517, 26518,\n",
       "       26519, 26520, 26528, 26529, 26530, 26531, 26532, 26533, 26534,\n",
       "       26535, 26536, 26537, 26538, 26539, 26540, 26541, 26542, 26543,\n",
       "       26552, 26553, 26554, 26555, 26556, 26566, 26603, 26913, 26914,\n",
       "       26915, 26916, 26917, 26918, 26919, 26920, 26921, 26922, 26923,\n",
       "       26924, 26925, 26926, 26927, 26928, 26935, 26936, 26937, 26938,\n",
       "       26939, 26940, 26941, 26942, 26943, 26944, 26945, 26946, 26947,\n",
       "       26948, 26949, 26950, 26951, 26952, 26961, 26962, 26963, 26964,\n",
       "       26966, 27137, 27138, 27177, 27178, 27179, 27180, 27181, 27182,\n",
       "       27183, 27184, 35078, 35080, 35128, 35129, 35131, 35266, 35288,\n",
       "       35289, 35290, 35291, 35292, 35293, 35294, 35295, 35296, 35297,\n",
       "       35298, 35299, 35300, 35301, 35302, 35303, 35314, 35315, 35316,\n",
       "       35317, 35318, 35319, 35320, 35321, 35322, 35323, 35324, 35325,\n",
       "       35326, 35338, 35339, 35340, 35341, 35342, 35343, 35344, 35345,\n",
       "       35346, 35347, 35348, 35352, 35363, 35364, 35366, 35367, 35368,\n",
       "       36081, 36082, 36083, 36086, 36087, 36088, 36089, 36114, 36115,\n",
       "       36130, 36131, 36132, 36133, 36134, 36135, 36136, 36137, 36138,\n",
       "       36155, 36156, 36157, 36158, 36159, 36160, 36184], dtype=int64)"
      ]
     },
     "execution_count": 245,
     "metadata": {},
     "output_type": "execute_result"
    }
   ],
   "source": [
    "idcold"
   ]
  },
  {
   "cell_type": "code",
   "execution_count": 353,
   "metadata": {},
   "outputs": [],
   "source": [
    "def findit(x, y, z):\n",
    "    idx=np.where(temp == (x))\n",
    "    inx=np.where(hour == (y))\n",
    "    ilx=np.where(rh == (z))\n",
    "    irx=np.intersect1d(idx, inx, ilx)\n",
    "    print(irx.size)\n",
    "    print(irx)"
   ]
  },
  {
   "cell_type": "code",
   "execution_count": 354,
   "metadata": {},
   "outputs": [
    {
     "name": "stdout",
     "output_type": "stream",
     "text": [
      "41\n",
      "[ 2687  3016  3448  3496  4192  4840  5150  5582  5774 11811 13035 13083\n",
      " 13320 13848 14399 16127 20158 20470 21765 21861 22077 22173 22533 22845\n",
      " 23109 23229 28941 29301 29517 30117 30213 30477 30741 30765 30813 30933\n",
      " 32708 37318 37342 37870 38086]\n"
     ]
    }
   ],
   "source": [
    "findit(64, 20, 66)"
   ]
  },
  {
   "cell_type": "code",
   "execution_count": 355,
   "metadata": {},
   "outputs": [],
   "source": [
    "def finddate(x):\n",
    "    datez=np.where(dateind == (x))[0]\n",
    "    print(datez)"
   ]
  },
  {
   "cell_type": "code",
   "execution_count": 356,
   "metadata": {},
   "outputs": [
    {
     "name": "stdout",
     "output_type": "stream",
     "text": [
      "[1463 1464 1465 1466 1467 1468 1469 1470 1471 1472 1473 1474 1475 1476\n",
      " 1477 1478 1479 1480 1481 1482 1483 1484 1485 1486]\n"
     ]
    }
   ],
   "source": [
    "finddate(20191114)"
   ]
  }
 ],
 "metadata": {
  "kernelspec": {
   "display_name": "Python 3",
   "language": "python",
   "name": "python3"
  },
  "language_info": {
   "codemirror_mode": {
    "name": "ipython",
    "version": 3
   },
   "file_extension": ".py",
   "mimetype": "text/x-python",
   "name": "python",
   "nbconvert_exporter": "python",
   "pygments_lexer": "ipython3",
   "version": "3.7.4"
  }
 },
 "nbformat": 4,
 "nbformat_minor": 2
}
