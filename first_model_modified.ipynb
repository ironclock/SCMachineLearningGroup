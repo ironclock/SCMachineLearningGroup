{
 "cells": [
  {
   "cell_type": "code",
   "execution_count": 319,
   "metadata": {},
   "outputs": [],
   "source": [
    "import numpy as np\n",
    "import pandas as pd\n",
    "from pandas.tseries.holiday import USFederalHolidayCalendar as calendar\n",
    "# from datetime import datetime\n",
    "from datetime import date\n",
    "import holidays"
   ]
  },
  {
   "cell_type": "code",
   "execution_count": 320,
   "metadata": {},
   "outputs": [
    {
     "data": {
      "text/html": [
       "<div>\n",
       "<style scoped>\n",
       "    .dataframe tbody tr th:only-of-type {\n",
       "        vertical-align: middle;\n",
       "    }\n",
       "\n",
       "    .dataframe tbody tr th {\n",
       "        vertical-align: top;\n",
       "    }\n",
       "\n",
       "    .dataframe thead th {\n",
       "        text-align: right;\n",
       "    }\n",
       "</style>\n",
       "<table border=\"1\" class=\"dataframe\">\n",
       "  <thead>\n",
       "    <tr style=\"text-align: right;\">\n",
       "      <th></th>\n",
       "      <th>Date</th>\n",
       "      <th>DF</th>\n",
       "      <th>D</th>\n",
       "      <th>AD</th>\n",
       "      <th>HourPST</th>\n",
       "      <th>HourUTC</th>\n",
       "      <th>Day</th>\n",
       "      <th>Day Name</th>\n",
       "    </tr>\n",
       "  </thead>\n",
       "  <tbody>\n",
       "    <tr>\n",
       "      <td>0</td>\n",
       "      <td>7/1/2015</td>\n",
       "      <td>865.0</td>\n",
       "      <td>873.0</td>\n",
       "      <td>873</td>\n",
       "      <td>0</td>\n",
       "      <td>8.0</td>\n",
       "      <td>3</td>\n",
       "      <td>Wednesday</td>\n",
       "    </tr>\n",
       "    <tr>\n",
       "      <td>1</td>\n",
       "      <td>7/1/2015</td>\n",
       "      <td>841.0</td>\n",
       "      <td>833.0</td>\n",
       "      <td>833</td>\n",
       "      <td>1</td>\n",
       "      <td>9.0</td>\n",
       "      <td>3</td>\n",
       "      <td>Wednesday</td>\n",
       "    </tr>\n",
       "    <tr>\n",
       "      <td>2</td>\n",
       "      <td>7/1/2015</td>\n",
       "      <td>790.0</td>\n",
       "      <td>802.0</td>\n",
       "      <td>802</td>\n",
       "      <td>2</td>\n",
       "      <td>10.0</td>\n",
       "      <td>3</td>\n",
       "      <td>Wednesday</td>\n",
       "    </tr>\n",
       "    <tr>\n",
       "      <td>3</td>\n",
       "      <td>7/1/2015</td>\n",
       "      <td>783.0</td>\n",
       "      <td>796.0</td>\n",
       "      <td>796</td>\n",
       "      <td>3</td>\n",
       "      <td>11.0</td>\n",
       "      <td>3</td>\n",
       "      <td>Wednesday</td>\n",
       "    </tr>\n",
       "    <tr>\n",
       "      <td>4</td>\n",
       "      <td>7/1/2015</td>\n",
       "      <td>800.0</td>\n",
       "      <td>807.0</td>\n",
       "      <td>807</td>\n",
       "      <td>4</td>\n",
       "      <td>12.0</td>\n",
       "      <td>3</td>\n",
       "      <td>Wednesday</td>\n",
       "    </tr>\n",
       "  </tbody>\n",
       "</table>\n",
       "</div>"
      ],
      "text/plain": [
       "       Date     DF      D   AD  HourPST  HourUTC  Day   Day Name\n",
       "0  7/1/2015  865.0  873.0  873        0      8.0    3  Wednesday\n",
       "1  7/1/2015  841.0  833.0  833        1      9.0    3  Wednesday\n",
       "2  7/1/2015  790.0  802.0  802        2     10.0    3  Wednesday\n",
       "3  7/1/2015  783.0  796.0  796        3     11.0    3  Wednesday\n",
       "4  7/1/2015  800.0  807.0  807        4     12.0    3  Wednesday"
      ]
     },
     "execution_count": 320,
     "metadata": {},
     "output_type": "execute_result"
    }
   ],
   "source": [
    "L=pd.read_csv(\"SCL_III.csv\")\n",
    "L.head()"
   ]
  },
  {
   "cell_type": "code",
   "execution_count": 321,
   "metadata": {},
   "outputs": [
    {
     "data": {
      "text/html": [
       "<div>\n",
       "<style scoped>\n",
       "    .dataframe tbody tr th:only-of-type {\n",
       "        vertical-align: middle;\n",
       "    }\n",
       "\n",
       "    .dataframe tbody tr th {\n",
       "        vertical-align: top;\n",
       "    }\n",
       "\n",
       "    .dataframe thead th {\n",
       "        text-align: right;\n",
       "    }\n",
       "</style>\n",
       "<table border=\"1\" class=\"dataframe\">\n",
       "  <thead>\n",
       "    <tr style=\"text-align: right;\">\n",
       "      <th></th>\n",
       "      <th>Date</th>\n",
       "      <th>HourPST</th>\n",
       "      <th>HourUTC</th>\n",
       "      <th>MinTmp</th>\n",
       "      <th>AvgTmp</th>\n",
       "      <th>MaxTmp</th>\n",
       "      <th>Dewpt</th>\n",
       "      <th>RH</th>\n",
       "      <th>WindSpd</th>\n",
       "      <th>WindGust</th>\n",
       "      <th>WindDir</th>\n",
       "      <th>AtmPrs</th>\n",
       "      <th>Temp</th>\n",
       "      <th>Day</th>\n",
       "      <th>Day Name</th>\n",
       "    </tr>\n",
       "  </thead>\n",
       "  <tbody>\n",
       "    <tr>\n",
       "      <td>0</td>\n",
       "      <td>7/1/2015</td>\n",
       "      <td>0</td>\n",
       "      <td>8</td>\n",
       "      <td>62.5</td>\n",
       "      <td>63.3</td>\n",
       "      <td>64.0</td>\n",
       "      <td>53.4</td>\n",
       "      <td>70.1</td>\n",
       "      <td>0.0</td>\n",
       "      <td>0.0</td>\n",
       "      <td>N</td>\n",
       "      <td>30.06</td>\n",
       "      <td>62.8</td>\n",
       "      <td>3</td>\n",
       "      <td>Wednesday</td>\n",
       "    </tr>\n",
       "    <tr>\n",
       "      <td>1</td>\n",
       "      <td>7/1/2015</td>\n",
       "      <td>1</td>\n",
       "      <td>9</td>\n",
       "      <td>61.1</td>\n",
       "      <td>61.5</td>\n",
       "      <td>62.0</td>\n",
       "      <td>53.9</td>\n",
       "      <td>76.2</td>\n",
       "      <td>0.0</td>\n",
       "      <td>0.0</td>\n",
       "      <td>N</td>\n",
       "      <td>30.06</td>\n",
       "      <td>61.0</td>\n",
       "      <td>3</td>\n",
       "      <td>Wednesday</td>\n",
       "    </tr>\n",
       "    <tr>\n",
       "      <td>2</td>\n",
       "      <td>7/1/2015</td>\n",
       "      <td>2</td>\n",
       "      <td>10</td>\n",
       "      <td>60.4</td>\n",
       "      <td>60.8</td>\n",
       "      <td>61.1</td>\n",
       "      <td>54.7</td>\n",
       "      <td>80.2</td>\n",
       "      <td>0.0</td>\n",
       "      <td>0.0</td>\n",
       "      <td>N</td>\n",
       "      <td>30.06</td>\n",
       "      <td>60.2</td>\n",
       "      <td>3</td>\n",
       "      <td>Wednesday</td>\n",
       "    </tr>\n",
       "    <tr>\n",
       "      <td>3</td>\n",
       "      <td>7/1/2015</td>\n",
       "      <td>3</td>\n",
       "      <td>11</td>\n",
       "      <td>60.1</td>\n",
       "      <td>60.3</td>\n",
       "      <td>60.6</td>\n",
       "      <td>55.0</td>\n",
       "      <td>82.5</td>\n",
       "      <td>0.0</td>\n",
       "      <td>0.0</td>\n",
       "      <td>N</td>\n",
       "      <td>30.06</td>\n",
       "      <td>59.8</td>\n",
       "      <td>3</td>\n",
       "      <td>Wednesday</td>\n",
       "    </tr>\n",
       "    <tr>\n",
       "      <td>4</td>\n",
       "      <td>7/1/2015</td>\n",
       "      <td>4</td>\n",
       "      <td>12</td>\n",
       "      <td>59.5</td>\n",
       "      <td>59.8</td>\n",
       "      <td>60.1</td>\n",
       "      <td>54.7</td>\n",
       "      <td>83.2</td>\n",
       "      <td>0.0</td>\n",
       "      <td>0.0</td>\n",
       "      <td>N</td>\n",
       "      <td>30.06</td>\n",
       "      <td>59.3</td>\n",
       "      <td>3</td>\n",
       "      <td>Wednesday</td>\n",
       "    </tr>\n",
       "  </tbody>\n",
       "</table>\n",
       "</div>"
      ],
      "text/plain": [
       "       Date  HourPST  HourUTC  MinTmp  AvgTmp  MaxTmp  Dewpt    RH  WindSpd  \\\n",
       "0  7/1/2015        0        8    62.5    63.3    64.0   53.4  70.1      0.0   \n",
       "1  7/1/2015        1        9    61.1    61.5    62.0   53.9  76.2      0.0   \n",
       "2  7/1/2015        2       10    60.4    60.8    61.1   54.7  80.2      0.0   \n",
       "3  7/1/2015        3       11    60.1    60.3    60.6   55.0  82.5      0.0   \n",
       "4  7/1/2015        4       12    59.5    59.8    60.1   54.7  83.2      0.0   \n",
       "\n",
       "   WindGust WindDir  AtmPrs  Temp  Day   Day Name  \n",
       "0       0.0       N   30.06  62.8    3  Wednesday  \n",
       "1       0.0       N   30.06  61.0    3  Wednesday  \n",
       "2       0.0       N   30.06  60.2    3  Wednesday  \n",
       "3       0.0       N   30.06  59.8    3  Wednesday  \n",
       "4       0.0       N   30.06  59.3    3  Wednesday  "
      ]
     },
     "execution_count": 321,
     "metadata": {},
     "output_type": "execute_result"
    }
   ],
   "source": [
    "W=pd.read_csv(\"AGW_III.csv\")\n",
    "W.head()"
   ]
  },
  {
   "cell_type": "code",
   "execution_count": 322,
   "metadata": {},
   "outputs": [],
   "source": [
    "L[\"tdate\"]=pd.to_datetime(L.Date)+   pd.to_timedelta(L.HourPST, unit='h')"
   ]
  },
  {
   "cell_type": "code",
   "execution_count": 323,
   "metadata": {},
   "outputs": [
    {
     "data": {
      "text/html": [
       "<div>\n",
       "<style scoped>\n",
       "    .dataframe tbody tr th:only-of-type {\n",
       "        vertical-align: middle;\n",
       "    }\n",
       "\n",
       "    .dataframe tbody tr th {\n",
       "        vertical-align: top;\n",
       "    }\n",
       "\n",
       "    .dataframe thead th {\n",
       "        text-align: right;\n",
       "    }\n",
       "</style>\n",
       "<table border=\"1\" class=\"dataframe\">\n",
       "  <thead>\n",
       "    <tr style=\"text-align: right;\">\n",
       "      <th></th>\n",
       "      <th>Date</th>\n",
       "      <th>DF</th>\n",
       "      <th>D</th>\n",
       "      <th>AD</th>\n",
       "      <th>HourPST</th>\n",
       "      <th>HourUTC</th>\n",
       "      <th>Day</th>\n",
       "      <th>Day Name</th>\n",
       "      <th>tdate</th>\n",
       "    </tr>\n",
       "  </thead>\n",
       "  <tbody>\n",
       "    <tr>\n",
       "      <td>0</td>\n",
       "      <td>7/1/2015</td>\n",
       "      <td>865.0</td>\n",
       "      <td>873.0</td>\n",
       "      <td>873</td>\n",
       "      <td>0</td>\n",
       "      <td>8.0</td>\n",
       "      <td>3</td>\n",
       "      <td>Wednesday</td>\n",
       "      <td>2015-07-01 00:00:00</td>\n",
       "    </tr>\n",
       "    <tr>\n",
       "      <td>1</td>\n",
       "      <td>7/1/2015</td>\n",
       "      <td>841.0</td>\n",
       "      <td>833.0</td>\n",
       "      <td>833</td>\n",
       "      <td>1</td>\n",
       "      <td>9.0</td>\n",
       "      <td>3</td>\n",
       "      <td>Wednesday</td>\n",
       "      <td>2015-07-01 01:00:00</td>\n",
       "    </tr>\n",
       "    <tr>\n",
       "      <td>2</td>\n",
       "      <td>7/1/2015</td>\n",
       "      <td>790.0</td>\n",
       "      <td>802.0</td>\n",
       "      <td>802</td>\n",
       "      <td>2</td>\n",
       "      <td>10.0</td>\n",
       "      <td>3</td>\n",
       "      <td>Wednesday</td>\n",
       "      <td>2015-07-01 02:00:00</td>\n",
       "    </tr>\n",
       "    <tr>\n",
       "      <td>3</td>\n",
       "      <td>7/1/2015</td>\n",
       "      <td>783.0</td>\n",
       "      <td>796.0</td>\n",
       "      <td>796</td>\n",
       "      <td>3</td>\n",
       "      <td>11.0</td>\n",
       "      <td>3</td>\n",
       "      <td>Wednesday</td>\n",
       "      <td>2015-07-01 03:00:00</td>\n",
       "    </tr>\n",
       "    <tr>\n",
       "      <td>4</td>\n",
       "      <td>7/1/2015</td>\n",
       "      <td>800.0</td>\n",
       "      <td>807.0</td>\n",
       "      <td>807</td>\n",
       "      <td>4</td>\n",
       "      <td>12.0</td>\n",
       "      <td>3</td>\n",
       "      <td>Wednesday</td>\n",
       "      <td>2015-07-01 04:00:00</td>\n",
       "    </tr>\n",
       "  </tbody>\n",
       "</table>\n",
       "</div>"
      ],
      "text/plain": [
       "       Date     DF      D   AD  HourPST  HourUTC  Day   Day Name  \\\n",
       "0  7/1/2015  865.0  873.0  873        0      8.0    3  Wednesday   \n",
       "1  7/1/2015  841.0  833.0  833        1      9.0    3  Wednesday   \n",
       "2  7/1/2015  790.0  802.0  802        2     10.0    3  Wednesday   \n",
       "3  7/1/2015  783.0  796.0  796        3     11.0    3  Wednesday   \n",
       "4  7/1/2015  800.0  807.0  807        4     12.0    3  Wednesday   \n",
       "\n",
       "                tdate  \n",
       "0 2015-07-01 00:00:00  \n",
       "1 2015-07-01 01:00:00  \n",
       "2 2015-07-01 02:00:00  \n",
       "3 2015-07-01 03:00:00  \n",
       "4 2015-07-01 04:00:00  "
      ]
     },
     "execution_count": 323,
     "metadata": {},
     "output_type": "execute_result"
    }
   ],
   "source": [
    "L.head()"
   ]
  },
  {
   "cell_type": "code",
   "execution_count": 324,
   "metadata": {},
   "outputs": [],
   "source": [
    "W[\"tdate\"]=pd.to_datetime(W.Date) +   pd.to_timedelta(W.HourPST, unit='h')"
   ]
  },
  {
   "cell_type": "code",
   "execution_count": 325,
   "metadata": {},
   "outputs": [
    {
     "data": {
      "text/html": [
       "<div>\n",
       "<style scoped>\n",
       "    .dataframe tbody tr th:only-of-type {\n",
       "        vertical-align: middle;\n",
       "    }\n",
       "\n",
       "    .dataframe tbody tr th {\n",
       "        vertical-align: top;\n",
       "    }\n",
       "\n",
       "    .dataframe thead th {\n",
       "        text-align: right;\n",
       "    }\n",
       "</style>\n",
       "<table border=\"1\" class=\"dataframe\">\n",
       "  <thead>\n",
       "    <tr style=\"text-align: right;\">\n",
       "      <th></th>\n",
       "      <th>Date</th>\n",
       "      <th>HourPST</th>\n",
       "      <th>HourUTC</th>\n",
       "      <th>MinTmp</th>\n",
       "      <th>AvgTmp</th>\n",
       "      <th>MaxTmp</th>\n",
       "      <th>Dewpt</th>\n",
       "      <th>RH</th>\n",
       "      <th>WindSpd</th>\n",
       "      <th>WindGust</th>\n",
       "      <th>WindDir</th>\n",
       "      <th>AtmPrs</th>\n",
       "      <th>Temp</th>\n",
       "      <th>Day</th>\n",
       "      <th>Day Name</th>\n",
       "      <th>tdate</th>\n",
       "    </tr>\n",
       "  </thead>\n",
       "  <tbody>\n",
       "    <tr>\n",
       "      <td>0</td>\n",
       "      <td>7/1/2015</td>\n",
       "      <td>0</td>\n",
       "      <td>8</td>\n",
       "      <td>62.5</td>\n",
       "      <td>63.3</td>\n",
       "      <td>64.0</td>\n",
       "      <td>53.4</td>\n",
       "      <td>70.1</td>\n",
       "      <td>0.0</td>\n",
       "      <td>0.0</td>\n",
       "      <td>N</td>\n",
       "      <td>30.06</td>\n",
       "      <td>62.8</td>\n",
       "      <td>3</td>\n",
       "      <td>Wednesday</td>\n",
       "      <td>2015-07-01 00:00:00</td>\n",
       "    </tr>\n",
       "    <tr>\n",
       "      <td>1</td>\n",
       "      <td>7/1/2015</td>\n",
       "      <td>1</td>\n",
       "      <td>9</td>\n",
       "      <td>61.1</td>\n",
       "      <td>61.5</td>\n",
       "      <td>62.0</td>\n",
       "      <td>53.9</td>\n",
       "      <td>76.2</td>\n",
       "      <td>0.0</td>\n",
       "      <td>0.0</td>\n",
       "      <td>N</td>\n",
       "      <td>30.06</td>\n",
       "      <td>61.0</td>\n",
       "      <td>3</td>\n",
       "      <td>Wednesday</td>\n",
       "      <td>2015-07-01 01:00:00</td>\n",
       "    </tr>\n",
       "    <tr>\n",
       "      <td>2</td>\n",
       "      <td>7/1/2015</td>\n",
       "      <td>2</td>\n",
       "      <td>10</td>\n",
       "      <td>60.4</td>\n",
       "      <td>60.8</td>\n",
       "      <td>61.1</td>\n",
       "      <td>54.7</td>\n",
       "      <td>80.2</td>\n",
       "      <td>0.0</td>\n",
       "      <td>0.0</td>\n",
       "      <td>N</td>\n",
       "      <td>30.06</td>\n",
       "      <td>60.2</td>\n",
       "      <td>3</td>\n",
       "      <td>Wednesday</td>\n",
       "      <td>2015-07-01 02:00:00</td>\n",
       "    </tr>\n",
       "    <tr>\n",
       "      <td>3</td>\n",
       "      <td>7/1/2015</td>\n",
       "      <td>3</td>\n",
       "      <td>11</td>\n",
       "      <td>60.1</td>\n",
       "      <td>60.3</td>\n",
       "      <td>60.6</td>\n",
       "      <td>55.0</td>\n",
       "      <td>82.5</td>\n",
       "      <td>0.0</td>\n",
       "      <td>0.0</td>\n",
       "      <td>N</td>\n",
       "      <td>30.06</td>\n",
       "      <td>59.8</td>\n",
       "      <td>3</td>\n",
       "      <td>Wednesday</td>\n",
       "      <td>2015-07-01 03:00:00</td>\n",
       "    </tr>\n",
       "    <tr>\n",
       "      <td>4</td>\n",
       "      <td>7/1/2015</td>\n",
       "      <td>4</td>\n",
       "      <td>12</td>\n",
       "      <td>59.5</td>\n",
       "      <td>59.8</td>\n",
       "      <td>60.1</td>\n",
       "      <td>54.7</td>\n",
       "      <td>83.2</td>\n",
       "      <td>0.0</td>\n",
       "      <td>0.0</td>\n",
       "      <td>N</td>\n",
       "      <td>30.06</td>\n",
       "      <td>59.3</td>\n",
       "      <td>3</td>\n",
       "      <td>Wednesday</td>\n",
       "      <td>2015-07-01 04:00:00</td>\n",
       "    </tr>\n",
       "  </tbody>\n",
       "</table>\n",
       "</div>"
      ],
      "text/plain": [
       "       Date  HourPST  HourUTC  MinTmp  AvgTmp  MaxTmp  Dewpt    RH  WindSpd  \\\n",
       "0  7/1/2015        0        8    62.5    63.3    64.0   53.4  70.1      0.0   \n",
       "1  7/1/2015        1        9    61.1    61.5    62.0   53.9  76.2      0.0   \n",
       "2  7/1/2015        2       10    60.4    60.8    61.1   54.7  80.2      0.0   \n",
       "3  7/1/2015        3       11    60.1    60.3    60.6   55.0  82.5      0.0   \n",
       "4  7/1/2015        4       12    59.5    59.8    60.1   54.7  83.2      0.0   \n",
       "\n",
       "   WindGust WindDir  AtmPrs  Temp  Day   Day Name               tdate  \n",
       "0       0.0       N   30.06  62.8    3  Wednesday 2015-07-01 00:00:00  \n",
       "1       0.0       N   30.06  61.0    3  Wednesday 2015-07-01 01:00:00  \n",
       "2       0.0       N   30.06  60.2    3  Wednesday 2015-07-01 02:00:00  \n",
       "3       0.0       N   30.06  59.8    3  Wednesday 2015-07-01 03:00:00  \n",
       "4       0.0       N   30.06  59.3    3  Wednesday 2015-07-01 04:00:00  "
      ]
     },
     "execution_count": 325,
     "metadata": {},
     "output_type": "execute_result"
    }
   ],
   "source": [
    "W.head()"
   ]
  },
  {
   "cell_type": "code",
   "execution_count": 326,
   "metadata": {},
   "outputs": [
    {
     "name": "stdout",
     "output_type": "stream",
     "text": [
      "40074\n",
      "40019\n",
      "(40079, 9) (40023, 16)\n"
     ]
    }
   ],
   "source": [
    "# check for duplicate values\n",
    "print(L.tdate.unique().size)\n",
    "print(W.tdate.unique().size)\n",
    "print(L.shape,W.shape)"
   ]
  },
  {
   "cell_type": "code",
   "execution_count": 327,
   "metadata": {},
   "outputs": [
    {
     "name": "stdout",
     "output_type": "stream",
     "text": [
      "10\n"
     ]
    },
    {
     "data": {
      "text/html": [
       "<div>\n",
       "<style scoped>\n",
       "    .dataframe tbody tr th:only-of-type {\n",
       "        vertical-align: middle;\n",
       "    }\n",
       "\n",
       "    .dataframe tbody tr th {\n",
       "        vertical-align: top;\n",
       "    }\n",
       "\n",
       "    .dataframe thead th {\n",
       "        text-align: right;\n",
       "    }\n",
       "</style>\n",
       "<table border=\"1\" class=\"dataframe\">\n",
       "  <thead>\n",
       "    <tr style=\"text-align: right;\">\n",
       "      <th></th>\n",
       "      <th>Date</th>\n",
       "      <th>DF</th>\n",
       "      <th>D</th>\n",
       "      <th>AD</th>\n",
       "      <th>HourPST</th>\n",
       "      <th>HourUTC</th>\n",
       "      <th>Day</th>\n",
       "      <th>Day Name</th>\n",
       "      <th>tdate</th>\n",
       "    </tr>\n",
       "  </thead>\n",
       "  <tbody>\n",
       "    <tr>\n",
       "      <td>2976</td>\n",
       "      <td>11/1/2015</td>\n",
       "      <td>965.0</td>\n",
       "      <td>949.0</td>\n",
       "      <td>949</td>\n",
       "      <td>24</td>\n",
       "      <td>NaN</td>\n",
       "      <td>0</td>\n",
       "      <td>Sunday</td>\n",
       "      <td>2015-11-02</td>\n",
       "    </tr>\n",
       "    <tr>\n",
       "      <td>2977</td>\n",
       "      <td>11/2/2015</td>\n",
       "      <td>885.0</td>\n",
       "      <td>896.0</td>\n",
       "      <td>896</td>\n",
       "      <td>0</td>\n",
       "      <td>8.0</td>\n",
       "      <td>1</td>\n",
       "      <td>Monday</td>\n",
       "      <td>2015-11-02</td>\n",
       "    </tr>\n",
       "    <tr>\n",
       "      <td>11880</td>\n",
       "      <td>11/6/2016</td>\n",
       "      <td>965.0</td>\n",
       "      <td>928.0</td>\n",
       "      <td>928</td>\n",
       "      <td>24</td>\n",
       "      <td>NaN</td>\n",
       "      <td>0</td>\n",
       "      <td>Sunday</td>\n",
       "      <td>2016-11-07</td>\n",
       "    </tr>\n",
       "    <tr>\n",
       "      <td>11881</td>\n",
       "      <td>11/7/2016</td>\n",
       "      <td>880.0</td>\n",
       "      <td>873.0</td>\n",
       "      <td>873</td>\n",
       "      <td>0</td>\n",
       "      <td>8.0</td>\n",
       "      <td>1</td>\n",
       "      <td>Monday</td>\n",
       "      <td>2016-11-07</td>\n",
       "    </tr>\n",
       "    <tr>\n",
       "      <td>20616</td>\n",
       "      <td>11/5/2017</td>\n",
       "      <td>1110.0</td>\n",
       "      <td>NaN</td>\n",
       "      <td>1110</td>\n",
       "      <td>24</td>\n",
       "      <td>NaN</td>\n",
       "      <td>0</td>\n",
       "      <td>Sunday</td>\n",
       "      <td>2017-11-06</td>\n",
       "    </tr>\n",
       "    <tr>\n",
       "      <td>20617</td>\n",
       "      <td>11/6/2017</td>\n",
       "      <td>1090.0</td>\n",
       "      <td>1089.0</td>\n",
       "      <td>1089</td>\n",
       "      <td>0</td>\n",
       "      <td>8.0</td>\n",
       "      <td>1</td>\n",
       "      <td>Monday</td>\n",
       "      <td>2017-11-06</td>\n",
       "    </tr>\n",
       "    <tr>\n",
       "      <td>29352</td>\n",
       "      <td>11/4/2018</td>\n",
       "      <td>1025.0</td>\n",
       "      <td>900.0</td>\n",
       "      <td>900</td>\n",
       "      <td>24</td>\n",
       "      <td>NaN</td>\n",
       "      <td>0</td>\n",
       "      <td>Sunday</td>\n",
       "      <td>2018-11-05</td>\n",
       "    </tr>\n",
       "    <tr>\n",
       "      <td>29353</td>\n",
       "      <td>11/5/2018</td>\n",
       "      <td>870.0</td>\n",
       "      <td>854.0</td>\n",
       "      <td>854</td>\n",
       "      <td>0</td>\n",
       "      <td>8.0</td>\n",
       "      <td>1</td>\n",
       "      <td>Monday</td>\n",
       "      <td>2018-11-05</td>\n",
       "    </tr>\n",
       "    <tr>\n",
       "      <td>38088</td>\n",
       "      <td>11/3/2019</td>\n",
       "      <td>NaN</td>\n",
       "      <td>959.0</td>\n",
       "      <td>959</td>\n",
       "      <td>24</td>\n",
       "      <td>NaN</td>\n",
       "      <td>0</td>\n",
       "      <td>Sunday</td>\n",
       "      <td>2019-11-04</td>\n",
       "    </tr>\n",
       "    <tr>\n",
       "      <td>38089</td>\n",
       "      <td>11/4/2019</td>\n",
       "      <td>941.0</td>\n",
       "      <td>925.0</td>\n",
       "      <td>925</td>\n",
       "      <td>0</td>\n",
       "      <td>8.0</td>\n",
       "      <td>1</td>\n",
       "      <td>Monday</td>\n",
       "      <td>2019-11-04</td>\n",
       "    </tr>\n",
       "  </tbody>\n",
       "</table>\n",
       "</div>"
      ],
      "text/plain": [
       "            Date      DF       D    AD  HourPST  HourUTC  Day Day Name  \\\n",
       "2976   11/1/2015   965.0   949.0   949       24      NaN    0   Sunday   \n",
       "2977   11/2/2015   885.0   896.0   896        0      8.0    1   Monday   \n",
       "11880  11/6/2016   965.0   928.0   928       24      NaN    0   Sunday   \n",
       "11881  11/7/2016   880.0   873.0   873        0      8.0    1   Monday   \n",
       "20616  11/5/2017  1110.0     NaN  1110       24      NaN    0   Sunday   \n",
       "20617  11/6/2017  1090.0  1089.0  1089        0      8.0    1   Monday   \n",
       "29352  11/4/2018  1025.0   900.0   900       24      NaN    0   Sunday   \n",
       "29353  11/5/2018   870.0   854.0   854        0      8.0    1   Monday   \n",
       "38088  11/3/2019     NaN   959.0   959       24      NaN    0   Sunday   \n",
       "38089  11/4/2019   941.0   925.0   925        0      8.0    1   Monday   \n",
       "\n",
       "           tdate  \n",
       "2976  2015-11-02  \n",
       "2977  2015-11-02  \n",
       "11880 2016-11-07  \n",
       "11881 2016-11-07  \n",
       "20616 2017-11-06  \n",
       "20617 2017-11-06  \n",
       "29352 2018-11-05  \n",
       "29353 2018-11-05  \n",
       "38088 2019-11-04  \n",
       "38089 2019-11-04  "
      ]
     },
     "execution_count": 327,
     "metadata": {},
     "output_type": "execute_result"
    }
   ],
   "source": [
    "\n",
    "# dates=L.tdate\n",
    "# dups=dates.duplicated()\n",
    "# idx=np.where(dups==True)[0]\n",
    "# print(idx.size)\n",
    "# L.iloc[idx\n",
    "X=L.tdate.duplicated(keep=False).values\n",
    "idx=np.where(X==True)[0]\n",
    "print(idx.size)\n",
    "L.iloc[idx,:]"
   ]
  },
  {
   "cell_type": "code",
   "execution_count": 328,
   "metadata": {},
   "outputs": [
    {
     "data": {
      "text/plain": [
       "array([ 2976,  2977, 11880, 11881, 20616, 20617, 29352, 29353, 38088,\n",
       "       38089])"
      ]
     },
     "execution_count": 328,
     "metadata": {},
     "output_type": "execute_result"
    }
   ],
   "source": [
    "idx"
   ]
  },
  {
   "cell_type": "code",
   "execution_count": 329,
   "metadata": {},
   "outputs": [
    {
     "data": {
      "text/plain": [
       "(40074, 9)"
      ]
     },
     "execution_count": 329,
     "metadata": {},
     "output_type": "execute_result"
    }
   ],
   "source": [
    "#idx[::2]\n",
    "L.drop(index=idx[::2],inplace=True)\n",
    "L.shape"
   ]
  },
  {
   "cell_type": "code",
   "execution_count": 330,
   "metadata": {},
   "outputs": [
    {
     "name": "stdout",
     "output_type": "stream",
     "text": [
      "8\n"
     ]
    },
    {
     "data": {
      "text/html": [
       "<div>\n",
       "<style scoped>\n",
       "    .dataframe tbody tr th:only-of-type {\n",
       "        vertical-align: middle;\n",
       "    }\n",
       "\n",
       "    .dataframe tbody tr th {\n",
       "        vertical-align: top;\n",
       "    }\n",
       "\n",
       "    .dataframe thead th {\n",
       "        text-align: right;\n",
       "    }\n",
       "</style>\n",
       "<table border=\"1\" class=\"dataframe\">\n",
       "  <thead>\n",
       "    <tr style=\"text-align: right;\">\n",
       "      <th></th>\n",
       "      <th>Date</th>\n",
       "      <th>HourPST</th>\n",
       "      <th>HourUTC</th>\n",
       "      <th>MinTmp</th>\n",
       "      <th>AvgTmp</th>\n",
       "      <th>MaxTmp</th>\n",
       "      <th>Dewpt</th>\n",
       "      <th>RH</th>\n",
       "      <th>WindSpd</th>\n",
       "      <th>WindGust</th>\n",
       "      <th>WindDir</th>\n",
       "      <th>AtmPrs</th>\n",
       "      <th>Temp</th>\n",
       "      <th>Day</th>\n",
       "      <th>Day Name</th>\n",
       "      <th>tdate</th>\n",
       "    </tr>\n",
       "  </thead>\n",
       "  <tbody>\n",
       "    <tr>\n",
       "      <td>6137</td>\n",
       "      <td>3/13/2016</td>\n",
       "      <td>2</td>\n",
       "      <td>10</td>\n",
       "      <td>41.7</td>\n",
       "      <td>43.0</td>\n",
       "      <td>43.9</td>\n",
       "      <td>38.6</td>\n",
       "      <td>84.3</td>\n",
       "      <td>2.6</td>\n",
       "      <td>8.9</td>\n",
       "      <td>E</td>\n",
       "      <td>29.71</td>\n",
       "      <td>42.8</td>\n",
       "      <td>0</td>\n",
       "      <td>Sunday</td>\n",
       "      <td>2016-03-13 02:00:00</td>\n",
       "    </tr>\n",
       "    <tr>\n",
       "      <td>6138</td>\n",
       "      <td>3/13/2016</td>\n",
       "      <td>2</td>\n",
       "      <td>10</td>\n",
       "      <td>42.1</td>\n",
       "      <td>43.1</td>\n",
       "      <td>43.7</td>\n",
       "      <td>39.6</td>\n",
       "      <td>87.5</td>\n",
       "      <td>3.7</td>\n",
       "      <td>8.9</td>\n",
       "      <td>E</td>\n",
       "      <td>29.69</td>\n",
       "      <td>42.9</td>\n",
       "      <td>0</td>\n",
       "      <td>Sunday</td>\n",
       "      <td>2016-03-13 02:00:00</td>\n",
       "    </tr>\n",
       "    <tr>\n",
       "      <td>14860</td>\n",
       "      <td>3/12/2017</td>\n",
       "      <td>2</td>\n",
       "      <td>10</td>\n",
       "      <td>47.2</td>\n",
       "      <td>47.4</td>\n",
       "      <td>47.5</td>\n",
       "      <td>44.6</td>\n",
       "      <td>89.8</td>\n",
       "      <td>5.6</td>\n",
       "      <td>14.2</td>\n",
       "      <td>E</td>\n",
       "      <td>30.25</td>\n",
       "      <td>47.3</td>\n",
       "      <td>0</td>\n",
       "      <td>Sunday</td>\n",
       "      <td>2017-03-12 02:00:00</td>\n",
       "    </tr>\n",
       "    <tr>\n",
       "      <td>14861</td>\n",
       "      <td>3/12/2017</td>\n",
       "      <td>2</td>\n",
       "      <td>10</td>\n",
       "      <td>47.4</td>\n",
       "      <td>47.5</td>\n",
       "      <td>47.7</td>\n",
       "      <td>44.5</td>\n",
       "      <td>89.0</td>\n",
       "      <td>5.2</td>\n",
       "      <td>12.8</td>\n",
       "      <td>E</td>\n",
       "      <td>30.25</td>\n",
       "      <td>47.4</td>\n",
       "      <td>0</td>\n",
       "      <td>Sunday</td>\n",
       "      <td>2017-03-12 02:00:00</td>\n",
       "    </tr>\n",
       "    <tr>\n",
       "      <td>23584</td>\n",
       "      <td>3/11/2018</td>\n",
       "      <td>2</td>\n",
       "      <td>10</td>\n",
       "      <td>36.7</td>\n",
       "      <td>37.1</td>\n",
       "      <td>37.5</td>\n",
       "      <td>33.7</td>\n",
       "      <td>87.3</td>\n",
       "      <td>1.9</td>\n",
       "      <td>4.2</td>\n",
       "      <td>NW</td>\n",
       "      <td>30.11</td>\n",
       "      <td>37.1</td>\n",
       "      <td>0</td>\n",
       "      <td>Sunday</td>\n",
       "      <td>2018-03-11 02:00:00</td>\n",
       "    </tr>\n",
       "    <tr>\n",
       "      <td>23585</td>\n",
       "      <td>3/11/2018</td>\n",
       "      <td>2</td>\n",
       "      <td>10</td>\n",
       "      <td>36.2</td>\n",
       "      <td>36.5</td>\n",
       "      <td>36.8</td>\n",
       "      <td>33.4</td>\n",
       "      <td>88.4</td>\n",
       "      <td>1.6</td>\n",
       "      <td>4.2</td>\n",
       "      <td>NW</td>\n",
       "      <td>30.11</td>\n",
       "      <td>36.4</td>\n",
       "      <td>0</td>\n",
       "      <td>Sunday</td>\n",
       "      <td>2018-03-11 02:00:00</td>\n",
       "    </tr>\n",
       "    <tr>\n",
       "      <td>32308</td>\n",
       "      <td>3/10/2019</td>\n",
       "      <td>2</td>\n",
       "      <td>10</td>\n",
       "      <td>30.8</td>\n",
       "      <td>31.1</td>\n",
       "      <td>31.4</td>\n",
       "      <td>29.3</td>\n",
       "      <td>94.0</td>\n",
       "      <td>2.4</td>\n",
       "      <td>3.5</td>\n",
       "      <td>N</td>\n",
       "      <td>30.15</td>\n",
       "      <td>30.8</td>\n",
       "      <td>0</td>\n",
       "      <td>Sunday</td>\n",
       "      <td>2019-03-10 02:00:00</td>\n",
       "    </tr>\n",
       "    <tr>\n",
       "      <td>32309</td>\n",
       "      <td>3/10/2019</td>\n",
       "      <td>2</td>\n",
       "      <td>10</td>\n",
       "      <td>30.1</td>\n",
       "      <td>30.3</td>\n",
       "      <td>30.4</td>\n",
       "      <td>28.7</td>\n",
       "      <td>95.1</td>\n",
       "      <td>1.1</td>\n",
       "      <td>2.8</td>\n",
       "      <td>N</td>\n",
       "      <td>30.16</td>\n",
       "      <td>29.9</td>\n",
       "      <td>0</td>\n",
       "      <td>Sunday</td>\n",
       "      <td>2019-03-10 02:00:00</td>\n",
       "    </tr>\n",
       "  </tbody>\n",
       "</table>\n",
       "</div>"
      ],
      "text/plain": [
       "            Date  HourPST  HourUTC  MinTmp  AvgTmp  MaxTmp  Dewpt    RH  \\\n",
       "6137   3/13/2016        2       10    41.7    43.0    43.9   38.6  84.3   \n",
       "6138   3/13/2016        2       10    42.1    43.1    43.7   39.6  87.5   \n",
       "14860  3/12/2017        2       10    47.2    47.4    47.5   44.6  89.8   \n",
       "14861  3/12/2017        2       10    47.4    47.5    47.7   44.5  89.0   \n",
       "23584  3/11/2018        2       10    36.7    37.1    37.5   33.7  87.3   \n",
       "23585  3/11/2018        2       10    36.2    36.5    36.8   33.4  88.4   \n",
       "32308  3/10/2019        2       10    30.8    31.1    31.4   29.3  94.0   \n",
       "32309  3/10/2019        2       10    30.1    30.3    30.4   28.7  95.1   \n",
       "\n",
       "       WindSpd  WindGust WindDir  AtmPrs  Temp  Day Day Name  \\\n",
       "6137       2.6       8.9       E   29.71  42.8    0   Sunday   \n",
       "6138       3.7       8.9       E   29.69  42.9    0   Sunday   \n",
       "14860      5.6      14.2       E   30.25  47.3    0   Sunday   \n",
       "14861      5.2      12.8       E   30.25  47.4    0   Sunday   \n",
       "23584      1.9       4.2      NW   30.11  37.1    0   Sunday   \n",
       "23585      1.6       4.2      NW   30.11  36.4    0   Sunday   \n",
       "32308      2.4       3.5       N   30.15  30.8    0   Sunday   \n",
       "32309      1.1       2.8       N   30.16  29.9    0   Sunday   \n",
       "\n",
       "                    tdate  \n",
       "6137  2016-03-13 02:00:00  \n",
       "6138  2016-03-13 02:00:00  \n",
       "14860 2017-03-12 02:00:00  \n",
       "14861 2017-03-12 02:00:00  \n",
       "23584 2018-03-11 02:00:00  \n",
       "23585 2018-03-11 02:00:00  \n",
       "32308 2019-03-10 02:00:00  \n",
       "32309 2019-03-10 02:00:00  "
      ]
     },
     "execution_count": 330,
     "metadata": {},
     "output_type": "execute_result"
    }
   ],
   "source": [
    "X=W.tdate.duplicated(keep=False).values\n",
    "idx=np.where(X==True)[0]\n",
    "print(idx.size)\n",
    "W.iloc[idx,:]"
   ]
  },
  {
   "cell_type": "code",
   "execution_count": 331,
   "metadata": {},
   "outputs": [
    {
     "data": {
      "text/plain": [
       "(40019, 16)"
      ]
     },
     "execution_count": 331,
     "metadata": {},
     "output_type": "execute_result"
    }
   ],
   "source": [
    "#idx[::2]\n",
    "W.drop(index=idx[::2],inplace=True)\n",
    "W.shape"
   ]
  },
  {
   "cell_type": "code",
   "execution_count": 332,
   "metadata": {},
   "outputs": [
    {
     "data": {
      "text/plain": [
       "(40015, 24)"
      ]
     },
     "execution_count": 332,
     "metadata": {},
     "output_type": "execute_result"
    }
   ],
   "source": [
    "data=L.merge(W,how=\"inner\",left_on=\"tdate\",right_on=\"tdate\")\n",
    "data.shape"
   ]
  },
  {
   "cell_type": "code",
   "execution_count": 333,
   "metadata": {},
   "outputs": [
    {
     "data": {
      "text/plain": [
       "array(['Date_x', 'DF', 'D', 'AD', 'HourPST_x', 'HourUTC_x', 'Day_x',\n",
       "       'Day Name_x', 'tdate', 'Date_y', 'HourPST_y', 'HourUTC_y',\n",
       "       'MinTmp', 'AvgTmp', 'MaxTmp', 'Dewpt', 'RH', 'WindSpd', 'WindGust',\n",
       "       'WindDir', 'AtmPrs', 'Temp', 'Day_y', 'Day Name_y'], dtype=object)"
      ]
     },
     "execution_count": 333,
     "metadata": {},
     "output_type": "execute_result"
    }
   ],
   "source": [
    "columns=data.columns.values\n",
    "columns"
   ]
  },
  {
   "cell_type": "code",
   "execution_count": 334,
   "metadata": {},
   "outputs": [
    {
     "data": {
      "text/plain": [
       "0     1\n",
       "1     1\n",
       "2     1\n",
       "3     1\n",
       "4     1\n",
       "5     3\n",
       "6     3\n",
       "7     3\n",
       "8     3\n",
       "9     3\n",
       "10    7\n",
       "11    7\n",
       "12    7\n",
       "13    7\n",
       "14    7\n",
       "15    3\n",
       "16    7\n",
       "17    7\n",
       "18    7\n",
       "19    7\n",
       "20    7\n",
       "21    3\n",
       "22    3\n",
       "23    3\n",
       "24    1\n",
       "25    3\n",
       "26    1\n",
       "27    1\n",
       "28    3\n",
       "29    1\n",
       "Name: WindDir, dtype: int64"
      ]
     },
     "execution_count": 334,
     "metadata": {},
     "output_type": "execute_result"
    }
   ],
   "source": [
    "from sklearn.preprocessing import LabelEncoder as le\n",
    "\n",
    "data['WindDir'].unique()\n",
    "wdc = le()\n",
    "wdc.fit(data['WindDir'])\n",
    "data['WindDir'] = wdc.transform(data.WindDir)\n",
    "data[\"WindDir\"].head(30)"
   ]
  },
  {
   "cell_type": "code",
   "execution_count": 335,
   "metadata": {},
   "outputs": [],
   "source": [
    "# Add weekend check\n",
    "data['weekend']=((data.tdate.dt.dayofweek // 5 == 1)).astype(int)\n",
    "\n",
    "# Add holiday check\n",
    "# If a federal holiday falls on Saturday it is usually observed on Friday (the day before),\n",
    "# and when it falls on Sunday it is observed the following Monday. \n",
    "cal = calendar();\n",
    "us_holidays=cal.holidays(start=data.tdate.min(), end=data.tdate.max())\n",
    "data['holiday'] = data['tdate'].dt.date.astype('datetime64').isin(us_holidays)\n",
    "\n",
    "# Add 3 day holiday weekend check\n",
    "thday=[False]*data.shape[0]\n",
    "for i in range(0,data['Day_x'].shape[0]):\n",
    "    if data['holiday'].iloc[i]==True:\n",
    "        # on a Monday\n",
    "        if data['Day_x'].iloc[i]==1:\n",
    "            thday[i]=True\n",
    "            for j in range(0,49):\n",
    "                thday[i-j]=True\n",
    "        # on a Friday\n",
    "        if data['Day_x'].iloc[i]==5:\n",
    "            thday[i]=True\n",
    "            for j in range(0,49):\n",
    "                thday[i+j]=True\n",
    "\n",
    "data['3-day_holiday_wkend']=thday"
   ]
  },
  {
   "cell_type": "code",
   "execution_count": 336,
   "metadata": {},
   "outputs": [],
   "source": [
    "data[\"month\"]=data[\"tdate\"].dt.month\n",
    "data.head()\n",
    "\n",
    "def lagged_values(df,name,lags):\n",
    "    colIndex = df.columns.get_loc(name)\n",
    "    newdf = pd.DataFrame()\n",
    "    for i in range(1,lags+1):\n",
    "        label=name+\"_\"+str(i)\n",
    "        newdf.insert(i-1,label,0)\n",
    "        newdf[label] = df[name].shift(i,fill_value=np.nan)\n",
    "        avg = round(newdf.iloc[:, 0:23].mean(axis=1),2)\n",
    "        df[name+\"_AVG_\"+str(lags)] = avg\n",
    "        \n",
    "avg = 48\n",
    "    \n",
    "lagged_values(data,\"DF\",avg)\n",
    "lagged_values(data,\"D\",avg)\n",
    "lagged_values(data,\"AD\",avg)\n",
    "lagged_values(data,\"MinTmp\",avg)\n",
    "lagged_values(data,\"AvgTmp\",avg)\n",
    "lagged_values(data,\"Dewpt\",avg)\n",
    "lagged_values(data,\"RH\",avg)\n",
    "lagged_values(data,\"WindSpd\",avg)\n",
    "lagged_values(data,\"WindGust\",avg)\n",
    "lagged_values(data,\"AtmPrs\",avg)\n",
    "lagged_values(data,\"Temp\",avg)\n",
    "lagged_values(data,\"WindDir\",avg)"
   ]
  },
  {
   "cell_type": "code",
   "execution_count": 337,
   "metadata": {},
   "outputs": [
    {
     "data": {
      "text/plain": [
       "array(['Date_x', 'DF', 'D', 'AD', 'HourPST_x', 'HourUTC_x', 'Day_x',\n",
       "       'Day Name_x', 'tdate', 'Date_y', 'HourPST_y', 'HourUTC_y',\n",
       "       'MinTmp', 'AvgTmp', 'MaxTmp', 'Dewpt', 'RH', 'WindSpd', 'WindGust',\n",
       "       'WindDir', 'AtmPrs', 'Temp', 'Day_y', 'Day Name_y', 'weekend',\n",
       "       'holiday', '3-day_holiday_wkend', 'month', 'DF_AVG_48', 'D_AVG_48',\n",
       "       'AD_AVG_48', 'MinTmp_AVG_48', 'AvgTmp_AVG_48', 'Dewpt_AVG_48',\n",
       "       'RH_AVG_48', 'WindSpd_AVG_48', 'WindGust_AVG_48', 'AtmPrs_AVG_48',\n",
       "       'Temp_AVG_48', 'WindDir_AVG_48'], dtype=object)"
      ]
     },
     "execution_count": 337,
     "metadata": {},
     "output_type": "execute_result"
    }
   ],
   "source": [
    "columns=data.columns.values\n",
    "columns"
   ]
  },
  {
   "cell_type": "code",
   "execution_count": 338,
   "metadata": {},
   "outputs": [],
   "source": [
    "data.fillna(data.mean(), inplace=True)"
   ]
  },
  {
   "cell_type": "code",
   "execution_count": 339,
   "metadata": {},
   "outputs": [],
   "source": [
    "Y=data[\"AD\"].values\n",
    "X=data[['HourPST_x',\n",
    "        'Day_x',\n",
    "        'MinTmp',\n",
    "        'AvgTmp',\n",
    "        'MaxTmp', \n",
    "        'Dewpt', \n",
    "        'RH', \n",
    "        'WindSpd', \n",
    "        'WindGust', \n",
    "        'AtmPrs', \n",
    "        'Temp', \n",
    "        'Day_y',\n",
    "        'weekend',\n",
    "        'holiday',\n",
    "        '3-day_holiday_wkend',\n",
    "        'month',\n",
    "        'DF_AVG_'+str(avg),\n",
    "        'D_AVG_'+str(avg),\n",
    "        'AD_AVG_'+str(avg),\n",
    "        'MinTmp_AVG_'+str(avg),\n",
    "        'AvgTmp_AVG_'+str(avg),\n",
    "        'Dewpt_AVG_'+str(avg),\n",
    "        'RH_AVG_'+str(avg),\n",
    "        'WindSpd_AVG_'+str(avg),\n",
    "        'WindGust_AVG_'+str(avg),\n",
    "        'AtmPrs_AVG_'+str(avg),\n",
    "        'Temp_AVG_'+str(avg),\n",
    "        'WindDir_AVG_'+str(avg)]].values"
   ]
  },
  {
   "cell_type": "code",
   "execution_count": 340,
   "metadata": {},
   "outputs": [
    {
     "data": {
      "text/plain": [
       "28010"
      ]
     },
     "execution_count": 340,
     "metadata": {},
     "output_type": "execute_result"
    }
   ],
   "source": [
    "idx=np.arange(data.shape[0])\n",
    "n=idx.size\n",
    "n_cut=int(.7*n)\n",
    "n_cut"
   ]
  },
  {
   "cell_type": "code",
   "execution_count": 341,
   "metadata": {},
   "outputs": [],
   "source": [
    "x_train=X[idx[:n_cut],:]\n",
    "x_test=X[idx[n_cut:],:]\n",
    "\n",
    "y_train=Y[idx[:n_cut]]\n",
    "y_test=Y[idx[n_cut:]]"
   ]
  },
  {
   "cell_type": "code",
   "execution_count": 342,
   "metadata": {},
   "outputs": [],
   "source": [
    "from sklearn.ensemble import RandomForestRegressor as rf\n",
    "from sklearn.metrics import mean_squared_error\n",
    "from sklearn.ensemble import GradientBoostingRegressor as gbr"
   ]
  },
  {
   "cell_type": "code",
   "execution_count": 343,
   "metadata": {},
   "outputs": [
    {
     "data": {
      "text/plain": [
       "GradientBoostingRegressor(alpha=0.9, criterion='friedman_mse', init=None,\n",
       "                          learning_rate=0.1, loss='ls', max_depth=3,\n",
       "                          max_features=None, max_leaf_nodes=None,\n",
       "                          min_impurity_decrease=0.0, min_impurity_split=None,\n",
       "                          min_samples_leaf=1, min_samples_split=2,\n",
       "                          min_weight_fraction_leaf=0.0, n_estimators=100,\n",
       "                          n_iter_no_change=None, presort='auto',\n",
       "                          random_state=None, subsample=1.0, tol=0.0001,\n",
       "                          validation_fraction=0.1, verbose=0, warm_start=False)"
      ]
     },
     "execution_count": 343,
     "metadata": {},
     "output_type": "execute_result"
    }
   ],
   "source": [
    "# reg=rf(n_estimators=100)\n",
    "# reg.fit(x_train,y_train)\n",
    "\n",
    "reg = gbr(n_estimators=100)\n",
    "reg.fit(x_train,y_train)"
   ]
  },
  {
   "cell_type": "code",
   "execution_count": 369,
   "metadata": {},
   "outputs": [],
   "source": [
    "max_depth=[3, 5, 10]\n",
    "n_estimators=[10,100,200,400]\n",
    "learning_rate=np.linspace(.1,1,10)\n",
    "\n",
    "from sklearn.model_selection import GridSearchCV\n",
    "\n",
    "grid={\"n_estimators\":n_estimators, \"max_depth\":max_depth, \"learning_rate\":learning_rate}\n",
    "\n",
    "gb_grid=GridSearchCV(estimator=gbr(), param_grid=grid,cv=3)"
   ]
  },
  {
   "cell_type": "code",
   "execution_count": 370,
   "metadata": {},
   "outputs": [
    {
     "ename": "KeyboardInterrupt",
     "evalue": "",
     "output_type": "error",
     "traceback": [
      "\u001b[0;31m---------------------------------------------------------------------------\u001b[0m",
      "\u001b[0;31mKeyboardInterrupt\u001b[0m                         Traceback (most recent call last)",
      "\u001b[0;32m<ipython-input-370-8be3c785bd34>\u001b[0m in \u001b[0;36m<module>\u001b[0;34m\u001b[0m\n\u001b[0;32m----> 1\u001b[0;31m \u001b[0mgb_grid\u001b[0m\u001b[0;34m.\u001b[0m\u001b[0mfit\u001b[0m\u001b[0;34m(\u001b[0m\u001b[0mx_train\u001b[0m\u001b[0;34m,\u001b[0m\u001b[0my_train\u001b[0m\u001b[0;34m)\u001b[0m\u001b[0;34m\u001b[0m\u001b[0;34m\u001b[0m\u001b[0m\n\u001b[0m",
      "\u001b[0;32m~/opt/anaconda3/lib/python3.7/site-packages/sklearn/model_selection/_search.py\u001b[0m in \u001b[0;36mfit\u001b[0;34m(self, X, y, groups, **fit_params)\u001b[0m\n\u001b[1;32m    686\u001b[0m                 \u001b[0;32mreturn\u001b[0m \u001b[0mresults\u001b[0m\u001b[0;34m\u001b[0m\u001b[0;34m\u001b[0m\u001b[0m\n\u001b[1;32m    687\u001b[0m \u001b[0;34m\u001b[0m\u001b[0m\n\u001b[0;32m--> 688\u001b[0;31m             \u001b[0mself\u001b[0m\u001b[0;34m.\u001b[0m\u001b[0m_run_search\u001b[0m\u001b[0;34m(\u001b[0m\u001b[0mevaluate_candidates\u001b[0m\u001b[0;34m)\u001b[0m\u001b[0;34m\u001b[0m\u001b[0;34m\u001b[0m\u001b[0m\n\u001b[0m\u001b[1;32m    689\u001b[0m \u001b[0;34m\u001b[0m\u001b[0m\n\u001b[1;32m    690\u001b[0m         \u001b[0;31m# For multi-metric evaluation, store the best_index_, best_params_ and\u001b[0m\u001b[0;34m\u001b[0m\u001b[0;34m\u001b[0m\u001b[0;34m\u001b[0m\u001b[0m\n",
      "\u001b[0;32m~/opt/anaconda3/lib/python3.7/site-packages/sklearn/model_selection/_search.py\u001b[0m in \u001b[0;36m_run_search\u001b[0;34m(self, evaluate_candidates)\u001b[0m\n\u001b[1;32m   1147\u001b[0m     \u001b[0;32mdef\u001b[0m \u001b[0m_run_search\u001b[0m\u001b[0;34m(\u001b[0m\u001b[0mself\u001b[0m\u001b[0;34m,\u001b[0m \u001b[0mevaluate_candidates\u001b[0m\u001b[0;34m)\u001b[0m\u001b[0;34m:\u001b[0m\u001b[0;34m\u001b[0m\u001b[0;34m\u001b[0m\u001b[0m\n\u001b[1;32m   1148\u001b[0m         \u001b[0;34m\"\"\"Search all candidates in param_grid\"\"\"\u001b[0m\u001b[0;34m\u001b[0m\u001b[0;34m\u001b[0m\u001b[0m\n\u001b[0;32m-> 1149\u001b[0;31m         \u001b[0mevaluate_candidates\u001b[0m\u001b[0;34m(\u001b[0m\u001b[0mParameterGrid\u001b[0m\u001b[0;34m(\u001b[0m\u001b[0mself\u001b[0m\u001b[0;34m.\u001b[0m\u001b[0mparam_grid\u001b[0m\u001b[0;34m)\u001b[0m\u001b[0;34m)\u001b[0m\u001b[0;34m\u001b[0m\u001b[0;34m\u001b[0m\u001b[0m\n\u001b[0m\u001b[1;32m   1150\u001b[0m \u001b[0;34m\u001b[0m\u001b[0m\n\u001b[1;32m   1151\u001b[0m \u001b[0;34m\u001b[0m\u001b[0m\n",
      "\u001b[0;32m~/opt/anaconda3/lib/python3.7/site-packages/sklearn/model_selection/_search.py\u001b[0m in \u001b[0;36mevaluate_candidates\u001b[0;34m(candidate_params)\u001b[0m\n\u001b[1;32m    665\u001b[0m                                \u001b[0;32mfor\u001b[0m \u001b[0mparameters\u001b[0m\u001b[0;34m,\u001b[0m \u001b[0;34m(\u001b[0m\u001b[0mtrain\u001b[0m\u001b[0;34m,\u001b[0m \u001b[0mtest\u001b[0m\u001b[0;34m)\u001b[0m\u001b[0;34m\u001b[0m\u001b[0;34m\u001b[0m\u001b[0m\n\u001b[1;32m    666\u001b[0m                                in product(candidate_params,\n\u001b[0;32m--> 667\u001b[0;31m                                           cv.split(X, y, groups)))\n\u001b[0m\u001b[1;32m    668\u001b[0m \u001b[0;34m\u001b[0m\u001b[0m\n\u001b[1;32m    669\u001b[0m                 \u001b[0;32mif\u001b[0m \u001b[0mlen\u001b[0m\u001b[0;34m(\u001b[0m\u001b[0mout\u001b[0m\u001b[0;34m)\u001b[0m \u001b[0;34m<\u001b[0m \u001b[0;36m1\u001b[0m\u001b[0;34m:\u001b[0m\u001b[0;34m\u001b[0m\u001b[0;34m\u001b[0m\u001b[0m\n",
      "\u001b[0;32m~/opt/anaconda3/lib/python3.7/site-packages/joblib/parallel.py\u001b[0m in \u001b[0;36m__call__\u001b[0;34m(self, iterable)\u001b[0m\n\u001b[1;32m    922\u001b[0m                 \u001b[0mself\u001b[0m\u001b[0;34m.\u001b[0m\u001b[0m_iterating\u001b[0m \u001b[0;34m=\u001b[0m \u001b[0mself\u001b[0m\u001b[0;34m.\u001b[0m\u001b[0m_original_iterator\u001b[0m \u001b[0;32mis\u001b[0m \u001b[0;32mnot\u001b[0m \u001b[0;32mNone\u001b[0m\u001b[0;34m\u001b[0m\u001b[0;34m\u001b[0m\u001b[0m\n\u001b[1;32m    923\u001b[0m \u001b[0;34m\u001b[0m\u001b[0m\n\u001b[0;32m--> 924\u001b[0;31m             \u001b[0;32mwhile\u001b[0m \u001b[0mself\u001b[0m\u001b[0;34m.\u001b[0m\u001b[0mdispatch_one_batch\u001b[0m\u001b[0;34m(\u001b[0m\u001b[0miterator\u001b[0m\u001b[0;34m)\u001b[0m\u001b[0;34m:\u001b[0m\u001b[0;34m\u001b[0m\u001b[0;34m\u001b[0m\u001b[0m\n\u001b[0m\u001b[1;32m    925\u001b[0m                 \u001b[0;32mpass\u001b[0m\u001b[0;34m\u001b[0m\u001b[0;34m\u001b[0m\u001b[0m\n\u001b[1;32m    926\u001b[0m \u001b[0;34m\u001b[0m\u001b[0m\n",
      "\u001b[0;32m~/opt/anaconda3/lib/python3.7/site-packages/joblib/parallel.py\u001b[0m in \u001b[0;36mdispatch_one_batch\u001b[0;34m(self, iterator)\u001b[0m\n\u001b[1;32m    757\u001b[0m                 \u001b[0;32mreturn\u001b[0m \u001b[0;32mFalse\u001b[0m\u001b[0;34m\u001b[0m\u001b[0;34m\u001b[0m\u001b[0m\n\u001b[1;32m    758\u001b[0m             \u001b[0;32melse\u001b[0m\u001b[0;34m:\u001b[0m\u001b[0;34m\u001b[0m\u001b[0;34m\u001b[0m\u001b[0m\n\u001b[0;32m--> 759\u001b[0;31m                 \u001b[0mself\u001b[0m\u001b[0;34m.\u001b[0m\u001b[0m_dispatch\u001b[0m\u001b[0;34m(\u001b[0m\u001b[0mtasks\u001b[0m\u001b[0;34m)\u001b[0m\u001b[0;34m\u001b[0m\u001b[0;34m\u001b[0m\u001b[0m\n\u001b[0m\u001b[1;32m    760\u001b[0m                 \u001b[0;32mreturn\u001b[0m \u001b[0;32mTrue\u001b[0m\u001b[0;34m\u001b[0m\u001b[0;34m\u001b[0m\u001b[0m\n\u001b[1;32m    761\u001b[0m \u001b[0;34m\u001b[0m\u001b[0m\n",
      "\u001b[0;32m~/opt/anaconda3/lib/python3.7/site-packages/joblib/parallel.py\u001b[0m in \u001b[0;36m_dispatch\u001b[0;34m(self, batch)\u001b[0m\n\u001b[1;32m    714\u001b[0m         \u001b[0;32mwith\u001b[0m \u001b[0mself\u001b[0m\u001b[0;34m.\u001b[0m\u001b[0m_lock\u001b[0m\u001b[0;34m:\u001b[0m\u001b[0;34m\u001b[0m\u001b[0;34m\u001b[0m\u001b[0m\n\u001b[1;32m    715\u001b[0m             \u001b[0mjob_idx\u001b[0m \u001b[0;34m=\u001b[0m \u001b[0mlen\u001b[0m\u001b[0;34m(\u001b[0m\u001b[0mself\u001b[0m\u001b[0;34m.\u001b[0m\u001b[0m_jobs\u001b[0m\u001b[0;34m)\u001b[0m\u001b[0;34m\u001b[0m\u001b[0;34m\u001b[0m\u001b[0m\n\u001b[0;32m--> 716\u001b[0;31m             \u001b[0mjob\u001b[0m \u001b[0;34m=\u001b[0m \u001b[0mself\u001b[0m\u001b[0;34m.\u001b[0m\u001b[0m_backend\u001b[0m\u001b[0;34m.\u001b[0m\u001b[0mapply_async\u001b[0m\u001b[0;34m(\u001b[0m\u001b[0mbatch\u001b[0m\u001b[0;34m,\u001b[0m \u001b[0mcallback\u001b[0m\u001b[0;34m=\u001b[0m\u001b[0mcb\u001b[0m\u001b[0;34m)\u001b[0m\u001b[0;34m\u001b[0m\u001b[0;34m\u001b[0m\u001b[0m\n\u001b[0m\u001b[1;32m    717\u001b[0m             \u001b[0;31m# A job can complete so quickly than its callback is\u001b[0m\u001b[0;34m\u001b[0m\u001b[0;34m\u001b[0m\u001b[0;34m\u001b[0m\u001b[0m\n\u001b[1;32m    718\u001b[0m             \u001b[0;31m# called before we get here, causing self._jobs to\u001b[0m\u001b[0;34m\u001b[0m\u001b[0;34m\u001b[0m\u001b[0;34m\u001b[0m\u001b[0m\n",
      "\u001b[0;32m~/opt/anaconda3/lib/python3.7/site-packages/joblib/_parallel_backends.py\u001b[0m in \u001b[0;36mapply_async\u001b[0;34m(self, func, callback)\u001b[0m\n\u001b[1;32m    180\u001b[0m     \u001b[0;32mdef\u001b[0m \u001b[0mapply_async\u001b[0m\u001b[0;34m(\u001b[0m\u001b[0mself\u001b[0m\u001b[0;34m,\u001b[0m \u001b[0mfunc\u001b[0m\u001b[0;34m,\u001b[0m \u001b[0mcallback\u001b[0m\u001b[0;34m=\u001b[0m\u001b[0;32mNone\u001b[0m\u001b[0;34m)\u001b[0m\u001b[0;34m:\u001b[0m\u001b[0;34m\u001b[0m\u001b[0;34m\u001b[0m\u001b[0m\n\u001b[1;32m    181\u001b[0m         \u001b[0;34m\"\"\"Schedule a func to be run\"\"\"\u001b[0m\u001b[0;34m\u001b[0m\u001b[0;34m\u001b[0m\u001b[0m\n\u001b[0;32m--> 182\u001b[0;31m         \u001b[0mresult\u001b[0m \u001b[0;34m=\u001b[0m \u001b[0mImmediateResult\u001b[0m\u001b[0;34m(\u001b[0m\u001b[0mfunc\u001b[0m\u001b[0;34m)\u001b[0m\u001b[0;34m\u001b[0m\u001b[0;34m\u001b[0m\u001b[0m\n\u001b[0m\u001b[1;32m    183\u001b[0m         \u001b[0;32mif\u001b[0m \u001b[0mcallback\u001b[0m\u001b[0;34m:\u001b[0m\u001b[0;34m\u001b[0m\u001b[0;34m\u001b[0m\u001b[0m\n\u001b[1;32m    184\u001b[0m             \u001b[0mcallback\u001b[0m\u001b[0;34m(\u001b[0m\u001b[0mresult\u001b[0m\u001b[0;34m)\u001b[0m\u001b[0;34m\u001b[0m\u001b[0;34m\u001b[0m\u001b[0m\n",
      "\u001b[0;32m~/opt/anaconda3/lib/python3.7/site-packages/joblib/_parallel_backends.py\u001b[0m in \u001b[0;36m__init__\u001b[0;34m(self, batch)\u001b[0m\n\u001b[1;32m    547\u001b[0m         \u001b[0;31m# Don't delay the application, to avoid keeping the input\u001b[0m\u001b[0;34m\u001b[0m\u001b[0;34m\u001b[0m\u001b[0;34m\u001b[0m\u001b[0m\n\u001b[1;32m    548\u001b[0m         \u001b[0;31m# arguments in memory\u001b[0m\u001b[0;34m\u001b[0m\u001b[0;34m\u001b[0m\u001b[0;34m\u001b[0m\u001b[0m\n\u001b[0;32m--> 549\u001b[0;31m         \u001b[0mself\u001b[0m\u001b[0;34m.\u001b[0m\u001b[0mresults\u001b[0m \u001b[0;34m=\u001b[0m \u001b[0mbatch\u001b[0m\u001b[0;34m(\u001b[0m\u001b[0;34m)\u001b[0m\u001b[0;34m\u001b[0m\u001b[0;34m\u001b[0m\u001b[0m\n\u001b[0m\u001b[1;32m    550\u001b[0m \u001b[0;34m\u001b[0m\u001b[0m\n\u001b[1;32m    551\u001b[0m     \u001b[0;32mdef\u001b[0m \u001b[0mget\u001b[0m\u001b[0;34m(\u001b[0m\u001b[0mself\u001b[0m\u001b[0;34m)\u001b[0m\u001b[0;34m:\u001b[0m\u001b[0;34m\u001b[0m\u001b[0;34m\u001b[0m\u001b[0m\n",
      "\u001b[0;32m~/opt/anaconda3/lib/python3.7/site-packages/joblib/parallel.py\u001b[0m in \u001b[0;36m__call__\u001b[0;34m(self)\u001b[0m\n\u001b[1;32m    223\u001b[0m         \u001b[0;32mwith\u001b[0m \u001b[0mparallel_backend\u001b[0m\u001b[0;34m(\u001b[0m\u001b[0mself\u001b[0m\u001b[0;34m.\u001b[0m\u001b[0m_backend\u001b[0m\u001b[0;34m,\u001b[0m \u001b[0mn_jobs\u001b[0m\u001b[0;34m=\u001b[0m\u001b[0mself\u001b[0m\u001b[0;34m.\u001b[0m\u001b[0m_n_jobs\u001b[0m\u001b[0;34m)\u001b[0m\u001b[0;34m:\u001b[0m\u001b[0;34m\u001b[0m\u001b[0;34m\u001b[0m\u001b[0m\n\u001b[1;32m    224\u001b[0m             return [func(*args, **kwargs)\n\u001b[0;32m--> 225\u001b[0;31m                     for func, args, kwargs in self.items]\n\u001b[0m\u001b[1;32m    226\u001b[0m \u001b[0;34m\u001b[0m\u001b[0m\n\u001b[1;32m    227\u001b[0m     \u001b[0;32mdef\u001b[0m \u001b[0m__len__\u001b[0m\u001b[0;34m(\u001b[0m\u001b[0mself\u001b[0m\u001b[0;34m)\u001b[0m\u001b[0;34m:\u001b[0m\u001b[0;34m\u001b[0m\u001b[0;34m\u001b[0m\u001b[0m\n",
      "\u001b[0;32m~/opt/anaconda3/lib/python3.7/site-packages/joblib/parallel.py\u001b[0m in \u001b[0;36m<listcomp>\u001b[0;34m(.0)\u001b[0m\n\u001b[1;32m    223\u001b[0m         \u001b[0;32mwith\u001b[0m \u001b[0mparallel_backend\u001b[0m\u001b[0;34m(\u001b[0m\u001b[0mself\u001b[0m\u001b[0;34m.\u001b[0m\u001b[0m_backend\u001b[0m\u001b[0;34m,\u001b[0m \u001b[0mn_jobs\u001b[0m\u001b[0;34m=\u001b[0m\u001b[0mself\u001b[0m\u001b[0;34m.\u001b[0m\u001b[0m_n_jobs\u001b[0m\u001b[0;34m)\u001b[0m\u001b[0;34m:\u001b[0m\u001b[0;34m\u001b[0m\u001b[0;34m\u001b[0m\u001b[0m\n\u001b[1;32m    224\u001b[0m             return [func(*args, **kwargs)\n\u001b[0;32m--> 225\u001b[0;31m                     for func, args, kwargs in self.items]\n\u001b[0m\u001b[1;32m    226\u001b[0m \u001b[0;34m\u001b[0m\u001b[0m\n\u001b[1;32m    227\u001b[0m     \u001b[0;32mdef\u001b[0m \u001b[0m__len__\u001b[0m\u001b[0;34m(\u001b[0m\u001b[0mself\u001b[0m\u001b[0;34m)\u001b[0m\u001b[0;34m:\u001b[0m\u001b[0;34m\u001b[0m\u001b[0;34m\u001b[0m\u001b[0m\n",
      "\u001b[0;32m~/opt/anaconda3/lib/python3.7/site-packages/sklearn/model_selection/_validation.py\u001b[0m in \u001b[0;36m_fit_and_score\u001b[0;34m(estimator, X, y, scorer, train, test, verbose, parameters, fit_params, return_train_score, return_parameters, return_n_test_samples, return_times, return_estimator, error_score)\u001b[0m\n\u001b[1;32m    514\u001b[0m             \u001b[0mestimator\u001b[0m\u001b[0;34m.\u001b[0m\u001b[0mfit\u001b[0m\u001b[0;34m(\u001b[0m\u001b[0mX_train\u001b[0m\u001b[0;34m,\u001b[0m \u001b[0;34m**\u001b[0m\u001b[0mfit_params\u001b[0m\u001b[0;34m)\u001b[0m\u001b[0;34m\u001b[0m\u001b[0;34m\u001b[0m\u001b[0m\n\u001b[1;32m    515\u001b[0m         \u001b[0;32melse\u001b[0m\u001b[0;34m:\u001b[0m\u001b[0;34m\u001b[0m\u001b[0;34m\u001b[0m\u001b[0m\n\u001b[0;32m--> 516\u001b[0;31m             \u001b[0mestimator\u001b[0m\u001b[0;34m.\u001b[0m\u001b[0mfit\u001b[0m\u001b[0;34m(\u001b[0m\u001b[0mX_train\u001b[0m\u001b[0;34m,\u001b[0m \u001b[0my_train\u001b[0m\u001b[0;34m,\u001b[0m \u001b[0;34m**\u001b[0m\u001b[0mfit_params\u001b[0m\u001b[0;34m)\u001b[0m\u001b[0;34m\u001b[0m\u001b[0;34m\u001b[0m\u001b[0m\n\u001b[0m\u001b[1;32m    517\u001b[0m \u001b[0;34m\u001b[0m\u001b[0m\n\u001b[1;32m    518\u001b[0m     \u001b[0;32mexcept\u001b[0m \u001b[0mException\u001b[0m \u001b[0;32mas\u001b[0m \u001b[0me\u001b[0m\u001b[0;34m:\u001b[0m\u001b[0;34m\u001b[0m\u001b[0;34m\u001b[0m\u001b[0m\n",
      "\u001b[0;32m~/opt/anaconda3/lib/python3.7/site-packages/sklearn/ensemble/gradient_boosting.py\u001b[0m in \u001b[0;36mfit\u001b[0;34m(self, X, y, sample_weight, monitor)\u001b[0m\n\u001b[1;32m   1544\u001b[0m         n_stages = self._fit_stages(\n\u001b[1;32m   1545\u001b[0m             \u001b[0mX\u001b[0m\u001b[0;34m,\u001b[0m \u001b[0my\u001b[0m\u001b[0;34m,\u001b[0m \u001b[0mraw_predictions\u001b[0m\u001b[0;34m,\u001b[0m \u001b[0msample_weight\u001b[0m\u001b[0;34m,\u001b[0m \u001b[0mself\u001b[0m\u001b[0;34m.\u001b[0m\u001b[0m_rng\u001b[0m\u001b[0;34m,\u001b[0m \u001b[0mX_val\u001b[0m\u001b[0;34m,\u001b[0m \u001b[0my_val\u001b[0m\u001b[0;34m,\u001b[0m\u001b[0;34m\u001b[0m\u001b[0;34m\u001b[0m\u001b[0m\n\u001b[0;32m-> 1546\u001b[0;31m             sample_weight_val, begin_at_stage, monitor, X_idx_sorted)\n\u001b[0m\u001b[1;32m   1547\u001b[0m \u001b[0;34m\u001b[0m\u001b[0m\n\u001b[1;32m   1548\u001b[0m         \u001b[0;31m# change shape of arrays after fit (early-stopping or additional ests)\u001b[0m\u001b[0;34m\u001b[0m\u001b[0;34m\u001b[0m\u001b[0;34m\u001b[0m\u001b[0m\n",
      "\u001b[0;32m~/opt/anaconda3/lib/python3.7/site-packages/sklearn/ensemble/gradient_boosting.py\u001b[0m in \u001b[0;36m_fit_stages\u001b[0;34m(self, X, y, raw_predictions, sample_weight, random_state, X_val, y_val, sample_weight_val, begin_at_stage, monitor, X_idx_sorted)\u001b[0m\n\u001b[1;32m   1608\u001b[0m             raw_predictions = self._fit_stage(\n\u001b[1;32m   1609\u001b[0m                 \u001b[0mi\u001b[0m\u001b[0;34m,\u001b[0m \u001b[0mX\u001b[0m\u001b[0;34m,\u001b[0m \u001b[0my\u001b[0m\u001b[0;34m,\u001b[0m \u001b[0mraw_predictions\u001b[0m\u001b[0;34m,\u001b[0m \u001b[0msample_weight\u001b[0m\u001b[0;34m,\u001b[0m \u001b[0msample_mask\u001b[0m\u001b[0;34m,\u001b[0m\u001b[0;34m\u001b[0m\u001b[0;34m\u001b[0m\u001b[0m\n\u001b[0;32m-> 1610\u001b[0;31m                 random_state, X_idx_sorted, X_csc, X_csr)\n\u001b[0m\u001b[1;32m   1611\u001b[0m \u001b[0;34m\u001b[0m\u001b[0m\n\u001b[1;32m   1612\u001b[0m             \u001b[0;31m# track deviance (= loss)\u001b[0m\u001b[0;34m\u001b[0m\u001b[0;34m\u001b[0m\u001b[0;34m\u001b[0m\u001b[0m\n",
      "\u001b[0;32m~/opt/anaconda3/lib/python3.7/site-packages/sklearn/ensemble/gradient_boosting.py\u001b[0m in \u001b[0;36m_fit_stage\u001b[0;34m(self, i, X, y, raw_predictions, sample_weight, sample_mask, random_state, X_idx_sorted, X_csc, X_csr)\u001b[0m\n\u001b[1;32m   1242\u001b[0m             \u001b[0mX\u001b[0m \u001b[0;34m=\u001b[0m \u001b[0mX_csr\u001b[0m \u001b[0;32mif\u001b[0m \u001b[0mX_csr\u001b[0m \u001b[0;32mis\u001b[0m \u001b[0;32mnot\u001b[0m \u001b[0;32mNone\u001b[0m \u001b[0;32melse\u001b[0m \u001b[0mX\u001b[0m\u001b[0;34m\u001b[0m\u001b[0;34m\u001b[0m\u001b[0m\n\u001b[1;32m   1243\u001b[0m             tree.fit(X, residual, sample_weight=sample_weight,\n\u001b[0;32m-> 1244\u001b[0;31m                      check_input=False, X_idx_sorted=X_idx_sorted)\n\u001b[0m\u001b[1;32m   1245\u001b[0m \u001b[0;34m\u001b[0m\u001b[0m\n\u001b[1;32m   1246\u001b[0m             \u001b[0;31m# update tree leaves\u001b[0m\u001b[0;34m\u001b[0m\u001b[0;34m\u001b[0m\u001b[0;34m\u001b[0m\u001b[0m\n",
      "\u001b[0;32m~/opt/anaconda3/lib/python3.7/site-packages/sklearn/tree/tree.py\u001b[0m in \u001b[0;36mfit\u001b[0;34m(self, X, y, sample_weight, check_input, X_idx_sorted)\u001b[0m\n\u001b[1;32m   1155\u001b[0m             \u001b[0msample_weight\u001b[0m\u001b[0;34m=\u001b[0m\u001b[0msample_weight\u001b[0m\u001b[0;34m,\u001b[0m\u001b[0;34m\u001b[0m\u001b[0;34m\u001b[0m\u001b[0m\n\u001b[1;32m   1156\u001b[0m             \u001b[0mcheck_input\u001b[0m\u001b[0;34m=\u001b[0m\u001b[0mcheck_input\u001b[0m\u001b[0;34m,\u001b[0m\u001b[0;34m\u001b[0m\u001b[0;34m\u001b[0m\u001b[0m\n\u001b[0;32m-> 1157\u001b[0;31m             X_idx_sorted=X_idx_sorted)\n\u001b[0m\u001b[1;32m   1158\u001b[0m         \u001b[0;32mreturn\u001b[0m \u001b[0mself\u001b[0m\u001b[0;34m\u001b[0m\u001b[0;34m\u001b[0m\u001b[0m\n\u001b[1;32m   1159\u001b[0m \u001b[0;34m\u001b[0m\u001b[0m\n",
      "\u001b[0;32m~/opt/anaconda3/lib/python3.7/site-packages/sklearn/tree/tree.py\u001b[0m in \u001b[0;36mfit\u001b[0;34m(self, X, y, sample_weight, check_input, X_idx_sorted)\u001b[0m\n\u001b[1;32m    378\u001b[0m                                            min_impurity_split)\n\u001b[1;32m    379\u001b[0m \u001b[0;34m\u001b[0m\u001b[0m\n\u001b[0;32m--> 380\u001b[0;31m         \u001b[0mbuilder\u001b[0m\u001b[0;34m.\u001b[0m\u001b[0mbuild\u001b[0m\u001b[0;34m(\u001b[0m\u001b[0mself\u001b[0m\u001b[0;34m.\u001b[0m\u001b[0mtree_\u001b[0m\u001b[0;34m,\u001b[0m \u001b[0mX\u001b[0m\u001b[0;34m,\u001b[0m \u001b[0my\u001b[0m\u001b[0;34m,\u001b[0m \u001b[0msample_weight\u001b[0m\u001b[0;34m,\u001b[0m \u001b[0mX_idx_sorted\u001b[0m\u001b[0;34m)\u001b[0m\u001b[0;34m\u001b[0m\u001b[0;34m\u001b[0m\u001b[0m\n\u001b[0m\u001b[1;32m    381\u001b[0m \u001b[0;34m\u001b[0m\u001b[0m\n\u001b[1;32m    382\u001b[0m         \u001b[0;32mif\u001b[0m \u001b[0mself\u001b[0m\u001b[0;34m.\u001b[0m\u001b[0mn_outputs_\u001b[0m \u001b[0;34m==\u001b[0m \u001b[0;36m1\u001b[0m\u001b[0;34m:\u001b[0m\u001b[0;34m\u001b[0m\u001b[0;34m\u001b[0m\u001b[0m\n",
      "\u001b[0;31mKeyboardInterrupt\u001b[0m: "
     ]
    }
   ],
   "source": [
    "gb_grid.fit(x_train,y_train)"
   ]
  },
  {
   "cell_type": "code",
   "execution_count": 367,
   "metadata": {},
   "outputs": [
    {
     "data": {
      "text/plain": [
       "{'n_estimators': 400}"
      ]
     },
     "execution_count": 367,
     "metadata": {},
     "output_type": "execute_result"
    }
   ],
   "source": [
    "gb_grid.best_params_"
   ]
  },
  {
   "cell_type": "code",
   "execution_count": 344,
   "metadata": {},
   "outputs": [],
   "source": [
    "y_pred=reg.predict(x_test)"
   ]
  },
  {
   "cell_type": "code",
   "execution_count": 345,
   "metadata": {},
   "outputs": [],
   "source": [
    "%matplotlib inline\n",
    "import matplotlib.pyplot as plt"
   ]
  },
  {
   "cell_type": "code",
   "execution_count": 346,
   "metadata": {},
   "outputs": [
    {
     "data": {
      "text/plain": [
       "<matplotlib.legend.Legend at 0x1b143b4810>"
      ]
     },
     "execution_count": 346,
     "metadata": {},
     "output_type": "execute_result"
    },
    {
     "data": {
      "image/png": "[encoded data removed]",
      "text/plain": [
       "<Figure size 1152x432 with 1 Axes>"
      ]
     },
     "metadata": {
      "needs_background": "light"
     },
     "output_type": "display_data"
    }
   ],
   "source": [
    "fig=plt.figure(figsize=(16,6))\n",
    "ax=fig.add_subplot(111)\n",
    "ax.set_ylabel(\"MWh\",size=20)\n",
    "\n",
    "ax.plot(y_test[100:400],label=\"true values\")\n",
    "ax.plot(y_pred[100:400],label=\"predicted\")\n",
    "ax.grid()\n",
    "ax.legend(fontsize=\"xx-large\")"
   ]
  },
  {
   "cell_type": "code",
   "execution_count": 347,
   "metadata": {},
   "outputs": [
    {
     "data": {
      "text/plain": [
       "2099.3234633333377"
      ]
     },
     "execution_count": 347,
     "metadata": {},
     "output_type": "execute_result"
    }
   ],
   "source": [
    "mean_squared_error(y_test, y_pred)"
   ]
  },
  {
   "cell_type": "code",
   "execution_count": 348,
   "metadata": {},
   "outputs": [
    {
     "data": {
      "text/plain": [
       "3.336148492617795"
      ]
     },
     "execution_count": 348,
     "metadata": {},
     "output_type": "execute_result"
    }
   ],
   "source": [
    "def mean_absolute_percentage_error(y_true, y_pred): \n",
    "    y_true, y_pred = np.array(y_true), np.array(y_pred)\n",
    "    return np.mean(np.abs((y_true - y_pred) / y_true)) * 100\n",
    "\n",
    "mean_absolute_percentage_error(y_test, y_pred)"
   ]
  },
  {
   "cell_type": "code",
   "execution_count": 349,
   "metadata": {},
   "outputs": [
    {
     "name": "stdout",
     "output_type": "stream",
     "text": [
      "Accuracy: 96.66 %.\n"
     ]
    }
   ],
   "source": [
    "errors = abs(y_pred - y_test)\n",
    "# Calculate mean absolute percentage error (MAPE)\n",
    "mape = 100 * (errors / y_test)# Calculate and display accuracy\n",
    "accuracy = 100 - np.mean(mape)\n",
    "print('Accuracy:', round(accuracy, 2), '%.')"
   ]
  },
  {
   "cell_type": "code",
   "execution_count": 351,
   "metadata": {},
   "outputs": [],
   "source": [
    "res = y_test - y_pred"
   ]
  },
  {
   "cell_type": "code",
   "execution_count": 354,
   "metadata": {},
   "outputs": [
    {
     "data": {
      "image/png": "[encoded data removed]",
      "text/plain": [
       "<Figure size 1152x432 with 1 Axes>"
      ]
     },
     "metadata": {
      "needs_background": "light"
     },
     "output_type": "display_data"
    }
   ],
   "source": [
    "fig=plt.figure(figsize=(16,6))\n",
    "ax=fig.add_subplot(111)\n",
    "\n",
    "bins=np.linspace(-230,200,50)\n",
    "\n",
    "ax.hist(res,bins,edgecolor=\"black\",label=\"residual\")\n",
    "ax.grid()"
   ]
  },
  {
   "cell_type": "code",
   "execution_count": null,
   "metadata": {},
   "outputs": [],
   "source": []
  }
 ],
 "metadata": {
  "kernelspec": {
   "display_name": "Python 3",
   "language": "python",
   "name": "python3"
  },
  "language_info": {
   "codemirror_mode": {
    "name": "ipython",
    "version": 3
   },
   "file_extension": ".py",
   "mimetype": "text/x-python",
   "name": "python",
   "nbconvert_exporter": "python",
   "pygments_lexer": "ipython3",
   "version": "3.7.4"
  }
 },
 "nbformat": 4,
 "nbformat_minor": 4
}
